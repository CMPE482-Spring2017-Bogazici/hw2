{
 "cells": [
  {
   "cell_type": "markdown",
   "metadata": {},
   "source": [
    "3.3.a\n",
    "\n",
    "let $$ ||x||_\\infty = x_k $$ for some k between 1 and m\n",
    "\n",
    "$$ ||x||_2 = (\\sum_{i=1}^{m} ||x||_i^2 )^{1/2} $$\n",
    "$$ ||x||_2 = (||x_k||^2 + R)^{1/2} \\hspace{1cm} and \\hspace{1cm} R = (\\sum_{n=1}^{m} ||x||_i^2 )^{1/2} \\hspace{1cm} where \\hspace{1cm} i!=k$$\n",
    "since R is square root of a non-negative number(sum of squares) then min(R) = 0\n",
    " $$ min ||x||_2 = (||x_k||^2)^{1/2} = ||x_k|| = ||x||_\\infty $$"
   ]
  },
  {
   "cell_type": "markdown",
   "metadata": {
    "collapsed": true
   },
   "source": [
    "3.3.b\n",
    "\n",
    "let\n",
    "\n",
    "$$ A = (\\sum_{i=1}^{m} ||x||_\\infty^2 )^{1/2} \\hspace{1cm} ||x||_2 = (\\sum_{i=1}^{m} ||x||_i^2 )^{1/2} $$\n",
    "\n",
    "$$ ||x||_\\infty >= ||x||_i \\hspace{0.2cm} for \\hspace{0.2cm} 1<=i<=m \\hspace{0.2cm} thus \\hspace{0.2cm} A>=||x||_2 $$ $$ A=\\sqrt{m}||x||_\\infty \\hspace{0.2cm} thus \\hspace{0.2cm}\\sqrt{m}||x||_\\infty >= ||x||_2$$"
   ]
  },
  {
   "cell_type": "markdown",
   "metadata": {
    "collapsed": true
   },
   "source": [
    "3.3.c\n",
    "\n",
    "$$ ||A||_\\infty = sup ||Ax||_\\infty/||x||_\\infty \\hspace{0.2cm} therefore \\hspace{0.2cm}  ||A||_\\infty <= sup ||Ax||_2/||x||_\\infty \\hspace{0.2cm} from \\hspace{0.2cm} eq.3.3 $$"
   ]
  },
  {
   "cell_type": "code",
   "execution_count": null,
   "metadata": {
    "collapsed": true
   },
   "outputs": [],
   "source": []
  },
  {
   "cell_type": "code",
   "execution_count": null,
   "metadata": {
    "collapsed": true
   },
   "outputs": [],
   "source": []
  }
 ],
 "metadata": {
  "anaconda-cloud": {},
  "kernelspec": {
   "display_name": "Python [conda env:cmpe_482]",
   "language": "python",
   "name": "conda-env-cmpe_482-py"
  },
  "language_info": {
   "codemirror_mode": {
    "name": "ipython",
    "version": 3
   },
   "file_extension": ".py",
   "mimetype": "text/x-python",
   "name": "python",
   "nbconvert_exporter": "python",
   "pygments_lexer": "ipython3",
   "version": "3.6.0"
  }
 },
 "nbformat": 4,
 "nbformat_minor": 1
}
