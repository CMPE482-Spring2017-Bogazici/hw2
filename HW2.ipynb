{
 "cells": [
  {
   "cell_type": "markdown",
   "metadata": {},
   "source": [
    "Ex 3.3\n",
    "a) By definition;\n",
    "\n",
    "$$||x||_\\infty = \\max_{1\\le i\\le m} \\left|x_i\\right| $$\n",
    "\n",
    "$$||x||_2=\\sqrt{\\sum_{j=1}^{m} \\left|x_j \\right|^{2}}$$\n",
    "\n",
    "For equality, we only need one non-zero component. The maximum and the square of the length will be equal. More than one non-zero components make 2- norm bigger than $\\infty$ - norm because $\\infty$-norm considers only the biggest component but 2-norm considers absolute values of all the components includes the biggest.\n",
    "\n",
    "b) By definition\n",
    "\n",
    "$$||x||_2=\\sqrt{\\sum_{j=1}^{m} \\left|x_j \\right|^{2}}$$\n",
    "\n",
    "$$\\sqrt{m}  \\left||x|\\right|_\\infty =\\sqrt{m} \\max_{1\\le i\\le m} \\left|x_i\\right| $$\n",
    "\n",
    "Let x is a vector whose components are equal to each other and denoted by $t$. 2-norm cares about square root of sum of all components' square powers. We have m times $t^2$ in a square root ($\\sqrt{m.t^2}$) and that is equal to $t\\sqrt{m}$. $\\sqrt{m}$ times $\\infty$ norm equals to $t\\sqrt{m}$. Because $\\infty$- norm cares the maximum component of a vector and here they are all same $t$. We can satisfy the equation from here. If x contains any zero component, its 2-norm will decrease so our $\\infty$-norm becomes bigger than 2-norm.\n",
    "\n",
    "c) By definition\n",
    "\n",
    "$$||A||_\\infty = \\max_{1\\le i\\le m} \\left|\\left|a^*_i\\right|\\right|_1 $$ where $a^*_i$ denotes the $i$th row of $A$. So it is equal to the \"maximum row sum\".\n",
    "\n",
    "$$ ||A||_2 =\\sup_{||x||\\neq{0}}{\\frac {||Ax||_2}{||x||_2}}  $$ \n",
    "\n",
    "Assume x as $$ ||x||_2 = 1 $$ so choose x column vector as\n",
    "\n",
    "   \\begin{bmatrix}{}\n",
    "    \\frac{1}{n} \\\\\n",
    "    \\frac{1}{n} \\\\\n",
    "    ..\\\\\n",
    "    ..\\\\\n",
    "    \\frac{1}{n}\n",
    "   \\end{bmatrix}\n",
    "\n",
    "$$ ||Ax||_2= \\frac{1}{\\sqrt{n}} \\sqrt{\\sum_{j=1}^{m} \\left|r_j \\right|^{2}} $$ so\n",
    "\n",
    "$$ \\sqrt{n} ||Ax||_2 =  \\sqrt{\\sum_{j=1}^{m} \\left|r_j \\right|^{2}} $$\n",
    "\n",
    "and\n",
    "\n",
    "$$ ||A||_2 =\\max_{||x||=1}{||Ax||_2}  $$\n",
    "\n",
    "therefore $$ \\sqrt{n} ||A||_2= \\sqrt{\\sum_{j=1}^{m} \\left|r_j \\right|^{2}} $$\n",
    "\n",
    "In the final step,\n",
    "\n",
    "$$ ||A||_\\infty = \\max_{1\\le i\\le m} \\left|\\left|a^*_j\\right|\\right|_1 \\leq \\sqrt{\\sum_{j=1}^{m} \\left|r_j \\right|^{2}} $$ from part a.\n",
    "\n",
    "$$ ||A||_\\infty \\leq \\sqrt{n} ||A||_2 $$\n",
    "\n",
    "d) By combining part b and c\n",
    "\n",
    "$$ ||A||_2 = \\frac {1}{\\sqrt{n}} \\sqrt{\\sum_{j=1}^{m} \\left|r_j \\right|^{2}} \\leq \\sqrt{\\sum_{j=1}^{m} \\left|r_j \\right|^{2}} $$\n",
    "\n",
    "By part b, we know that $$ ||x||_2 \\leq \\sqrt{m} ||x||_{\\infty} $$ and we consider this equation in matrix form.\n",
    "\n",
    "$$ \\sqrt{\\sum_{j=1}^{m} \\left|r_j \\right|^{2}} \\leq \\max_{1\\le i\\le m} \\left|\\left|a^*_j\\right|\\right|_1 = \\sqrt{m} ||A||_{\\infty} $$\n",
    "\n",
    "Therefore,  $$ ||A||_{2} \\leq \\sqrt{m}||A||_{\\infty} $$"
   ]
  },
  {
   "cell_type": "code",
   "execution_count": null,
   "metadata": {
    "collapsed": true
   },
   "outputs": [],
   "source": []
  }
 ],
 "metadata": {
  "anaconda-cloud": {},
  "kernelspec": {
   "display_name": "Octave",
   "language": "octave",
   "name": "octave"
  },
  "language_info": {
   "file_extension": ".m",
   "help_links": [
    {
     "text": "GNU Octave",
     "url": "https://www.gnu.org/software/octave/support.html"
    },
    {
     "text": "Octave Kernel",
     "url": "https://github.com/Calysto/octave_kernel"
    },
    {
     "text": "MetaKernel Magics",
     "url": "https://github.com/calysto/metakernel/blob/master/metakernel/magics/README.md"
    }
   ],
   "mimetype": "text/x-octave",
   "name": "octave",
   "version": "3.6.4"
  }
 },
 "nbformat": 4,
 "nbformat_minor": 1
}
