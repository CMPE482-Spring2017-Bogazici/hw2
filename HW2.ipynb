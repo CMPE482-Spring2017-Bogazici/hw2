{
 "cells": [
  {
   "cell_type": "markdown",
   "metadata": {},
   "source": [
    "## Miraç Göksu Öztürk\n",
    "## 2015700102\n",
    "<b>a)</b> Without loss of generality, let $x_0$ has the largest absolute value in $x$ <br/><br/>\n",
    "    $\\|x\\|_{\\infty} = x_0$ <br/>\n",
    "    $\\|x\\|_2 = \\sqrt{x_0^2 + x_1^2 + ... + x_{m-1}^2} = x_0\\sqrt{( 1 + x_1^2/x_0^2 + ... + x_{m-1}^2/x_0^2}) $ <br/>\n",
    "    We know that $ 1 \\leq \\sqrt{( 1 + x_1^2/x_0^2 + ... + x_{m-1}^2/x_0^2)}$ <br/>\n",
    "    so <br/>\n",
    "    $\\|x\\|_{\\infty} \\leq \\|x\\|_2 $ <br/><br/>\n",
    "    \n",
    "    \n",
    "<b>b)</b> Without loss of generality, let $x_0$ has the largest absolute value in $x$ <br/><br/>\n",
    "    $\\sqrt{m}\\|x\\|_{\\infty} = \\sqrt{m x_0^2}$ <br/> \n",
    "    $\\sqrt{x_0^2 + x_1^2 + ... + x_{m-1}^2} \\leq \\sqrt{m x_0^2}$ must hold because $x_0$ has the largest absolute value <br/>\n",
    "    therefore <br/>\n",
    "    $\\|x\\|_2 \\leq \\sqrt{m}\\|x\\|_{\\infty}$\n",
    "    \n",
    "<b>c)</b> From a and b we know that <br/>\n",
    "    $\\|x\\|_{\\infty} \\leq \\|x\\|_2 \\leq \\sqrt{m}\\|x\\|_{\\infty}$ when x $\\in \\mathbb{R}^m$ <br/><br/>\n",
    "    so <br/>\n",
    "    $\\|Ax\\|_{\\infty} \\leq \\|Ax\\|_2 \\leq \\|A\\|_2 \\|x\\|_2 \\leq \\sqrt{n}\\|A\\|_2\\|x\\|_{\\infty}$ when $x \\in \\mathbb{R}^n $ <br/>\n",
    "    we know norm of $x$ must be 1 then, <br/>\n",
    "    $\\|A\\|_{\\infty} \\leq \\sqrt{n}\\|A\\|_2 $\n"
   ]
  },
  {
   "cell_type": "code",
   "execution_count": null,
   "metadata": {
    "collapsed": true
   },
   "outputs": [],
   "source": []
  }
 ],
 "metadata": {
  "kernelspec": {
   "display_name": "Octave",
   "language": "octave",
   "name": "octave"
  },
  "language_info": {
   "file_extension": ".m",
   "help_links": [
    {
     "text": "GNU Octave",
     "url": "https://www.gnu.org/software/octave/support.html"
    },
    {
     "text": "Octave Kernel",
     "url": "https://github.com/Calysto/octave_kernel"
    },
    {
     "text": "MetaKernel Magics",
     "url": "https://github.com/calysto/metakernel/blob/master/metakernel/magics/README.md"
    }
   ],
   "mimetype": "text/x-octave",
   "name": "octave",
   "version": "4.2.0"
  }
 },
 "nbformat": 4,
 "nbformat_minor": 2
}
