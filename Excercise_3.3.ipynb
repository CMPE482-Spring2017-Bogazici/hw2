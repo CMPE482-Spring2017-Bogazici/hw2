{
 "cells": [
  {
   "cell_type": "markdown",
   "metadata": {
    "collapsed": false
   },
   "source": [
    "## Exercise 3.3"
   ]
  },
  {
   "cell_type": "markdown",
   "metadata": {},
   "source": [
    "#### a) \n",
    "\n",
    "$||x||_{2} = \\sqrt{x_{1}^{2}+x_{2}^{2}+x_{3}^{2}+...+x_{m}^{2}}$\n",
    "\n",
    "$||x||_{\\infty} = max$ $|x_{i}|$ where $1 \\leq i \\leq m$\n",
    "\n",
    "Let's say $x_{max}$ is the element such that $||x||_{\\infty} = |x_{max}|$.\n",
    "\n",
    "$||x||_{2}^{2} = x_{1}^{2}+x_{2}^{2}+x_{3}^{2}+..+x_{max}^{2}+..+x_{m}^{2}$\n",
    "\n",
    "$||x||_{\\infty}^{2} = |x_{max}|_{2}^{2}$\n",
    "\n",
    "It is obvious that $||x||_{\\infty}^{2}\\leq||x||_{2}^{2}$. We know that norms are always positive. For this reason, we can say that $||x||_{\\infty}\\leq||x||_{2}$.  "
   ]
  },
  {
   "cell_type": "markdown",
   "metadata": {
    "collapsed": true
   },
   "source": [
    "#### b) \n",
    "\n",
    "Prove $||x||_{2} \\leq ||x||_{\\infty} \\sqrt{m}$\n",
    "\n",
    "$||x||_{2} = \\sqrt{x_{1}^{2}+x_{2}^{2}+x_{3}^{2}+...+x_{m}^{2}}$ \n",
    "\n",
    "$||x||_{\\infty} = max$ $|x_{i}|$ where $1 \\leq i \\leq m$\n",
    "\n",
    "Let's say $x_{max}$ is the element such that $||x||_{\\infty} = |x_{max}|$.\n",
    "\n",
    "$(\\sqrt{m}||x||_{\\infty})^{2} = |x_{max}|^{2}m = \\underbrace{x_{max}^{2}+x_{max}^{2}+...+x_{max}^{2}}_\\text{# of elements = m}$\n",
    "\n",
    "$||x||_{2}^{2} = \\underbrace{x_{1}^{2}+x_{2}^{2}+x_{3}^{2}+...+x_{m}^{2}}_\\text{# of elements = m} $\n",
    "\n",
    "Because $x_{max}$ is the element with max value, m $x_{max}^{2}$ is greater then the sum of elements (# of these elements is m-1) and one $x_{max}$, it is obvious that $||x||_{2} \\leq ||x||_{\\infty} \\sqrt{m}$\n"
   ]
  },
  {
   "cell_type": "markdown",
   "metadata": {},
   "source": [
    "#### c) "
   ]
  },
  {
   "cell_type": "markdown",
   "metadata": {},
   "source": [
    "#### d)"
   ]
  },
  {
   "cell_type": "code",
   "execution_count": null,
   "metadata": {
    "collapsed": true
   },
   "outputs": [],
   "source": []
  }
 ],
 "metadata": {
  "kernelspec": {
   "display_name": "Octave",
   "language": "octave",
   "name": "octave"
  },
  "language_info": {
   "file_extension": ".m",
   "help_links": [
    {
     "text": "GNU Octave",
     "url": "https://www.gnu.org/software/octave/support.html"
    },
    {
     "text": "Octave Kernel",
     "url": "https://github.com/Calysto/octave_kernel"
    },
    {
     "text": "MetaKernel Magics",
     "url": "https://github.com/calysto/metakernel/blob/master/metakernel/magics/README.md"
    }
   ],
   "mimetype": "text/x-octave",
   "name": "octave",
   "version": "3.8.0"
  }
 },
 "nbformat": 4,
 "nbformat_minor": 2
}
