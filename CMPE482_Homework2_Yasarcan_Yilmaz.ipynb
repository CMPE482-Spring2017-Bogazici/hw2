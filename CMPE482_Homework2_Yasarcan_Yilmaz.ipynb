{
 "cells": [
  {
   "cell_type": "markdown",
   "metadata": {
    "deletable": true,
    "editable": true
   },
   "source": [
    "### Yaşarcan Yılmaz \n",
    "#### 2016705051"
   ]
  },
  {
   "cell_type": "markdown",
   "metadata": {
    "deletable": true,
    "editable": true
   },
   "source": [
    "#### Exercise 3.3 from TB"
   ]
  },
  {
   "cell_type": "markdown",
   "metadata": {
    "deletable": true,
    "editable": true
   },
   "source": [
    "(a) $\\|x\\|_\\infty \\leq \\|x\\|_{2}$\n",
    "\n",
    "$ \\|x\\|_\\infty = \\max\\limits_{i} (|x_{i}|^2)^{1/2}$\n",
    "\n",
    "$\\leq (\\sum\\limits_{i=1}^{m} \\max\\limits_{i} |x_{i}^2|)^{1/2} = \\|x\\|_{2}$\n",
    "\n",
    "We can achieve the equality for $x = e_{1}, e_{2}, ..., e_{m}$"
   ]
  },
  {
   "cell_type": "markdown",
   "metadata": {
    "deletable": true,
    "editable": true
   },
   "source": [
    "(b) $ \\|x\\|_{2} \\leq \\sqrt m\\ \\|x\\|_{\\infty} $\n",
    "\n",
    "$ \\|x\\|_{2} = (\\sum\\limits_{i=1}^m |x_{i}|^{2})^{1/2}$\n",
    "\n",
    "$\\leq (\\sum\\limits_{i=1}^{m} \\max\\limits_{i} |x_{i}|^2)^{1/2} = (m \\|x\\|_{\\infty}^{2})^{1/2} $\n",
    "\n",
    "$ = \\sqrt{m} \\|x\\|_{\\infty} $\n",
    "\n",
    "If we take,\n",
    "\n",
    "$ x = \\begin{bmatrix} 1 \\\\ 1 \\\\ \\vdots \\\\ 1 \\end{bmatrix} $\n",
    "\n",
    "$ \\|x\\|_{\\infty} = 1$ and $\\|x\\|_2 = \\sqrt{m}$\n"
   ]
  },
  {
   "cell_type": "markdown",
   "metadata": {
    "deletable": true,
    "editable": true
   },
   "source": [
    "(c) $ \\|A\\|_{\\infty} \\leq \\sqrt n \\ \\|A\\|_{2}$\n",
    "\n",
    "$\\|A\\|_{\\infty}= \\sup\\limits_{x \\neq 0}\\frac{ \\|Ax\\|_{\\infty}}  {\\|x\\|_{\\infty}} $\n",
    "\n",
    "$\\leq \\sup\\limits_{x \\neq 0}\\frac{ \\|Ax\\|_{2}}  {\\|x\\|_{\\infty}}$\n",
    "\n",
    "\n",
    "$\\leq \\sup\\limits_{x \\neq 0}\\frac{ \\|Ax\\|_{2}}  {\\|x\\|_{2}/ \\sqrt{n}}$ \n",
    "\n",
    "$= \\sqrt{n}\\|A\\|_{2}$"
   ]
  },
  {
   "cell_type": "markdown",
   "metadata": {
    "deletable": true,
    "editable": true
   },
   "source": [
    "(d) $\\|A\\|_{2} \\leq \\sqrt m\\ \\|A||_{\\infty}$\n",
    "$\\|A\\|_{2} = \\sup\\limits_{x \\neq 0}\\frac{ \\|Ax\\|_{2}}  {\\|x\\|_{2}} $\n",
    "\n",
    "$\\leq \\sup\\limits_ {x \\neq 0} \\frac{\\sqrt{m} \\|Ax\\|_{\\infty}}{\\|x\\|_{2}}$ \n",
    "$\\leq \\sup\\limits_ {x \\neq 0} \\frac{\\sqrt{m} \\|Ax\\|_{\\infty}}{\\|x\\|_{\\infty}}$\n",
    "\n",
    "$= \\sqrt{m}\\|A\\|_{\\infty}$"
   ]
  }
 ],
 "metadata": {
  "kernelspec": {
   "display_name": "Octave",
   "language": "octave",
   "name": "octave"
  },
  "language_info": {
   "file_extension": ".m",
   "help_links": [
    {
     "text": "GNU Octave",
     "url": "https://www.gnu.org/software/octave/support.html"
    },
    {
     "text": "Octave Kernel",
     "url": "https://github.com/Calysto/octave_kernel"
    },
    {
     "text": "MetaKernel Magics",
     "url": "https://github.com/calysto/metakernel/blob/master/metakernel/magics/README.md"
    }
   ],
   "mimetype": "text/x-octave",
   "name": "octave",
   "version": "4.2.0"
  }
 },
 "nbformat": 4,
 "nbformat_minor": 2
}
