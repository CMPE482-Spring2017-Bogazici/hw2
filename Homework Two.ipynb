{
 "cells": [
  {
   "cell_type": "markdown",
   "metadata": {
    "deletable": true,
    "editable": true
   },
   "source": [
    "### Homework II\n",
    "### Question 1\n",
    "$$\n",
    "   \\|x|\\|_\\infty \\leq \\|x\\|_2  \\\\\n",
    "   x_1^*x_1  \\leq x_1^*x_1 + x_2^*x \\dots + x_m^*x_m \\quad\\textit{assume that first element is max of x_k^*x_k wlog  }\\\\\n",
    "   0 \\leq  x_2^*x \\dots + x_m^*x_m \\quad\\textit{it holds as  } \\forall x_k  \\quad 0 \\leq x_k^*x_k\n",
    "$$\n",
    "\n",
    "### Question 2\n",
    "$$\n",
    "   \\|x|\\|_2 \\leq \\sqrt{m} \\|x\\|_\\infty \\\\\n",
    "   x_1^*x_1 + x_2^*x_2 \\dots + x_m^*x_m \\leq m x_1^*x_1\\quad\\textit{assume that first element is max of x_k^*x_k wlog  }\\\\\n",
    "   \\forall x_k \\quad  x_k^*x_k \\leq x_1^*x_1 \\textit{ for all m element is holds so the inequality holds}\n",
    "$$\n",
    "### Question 3\n",
    "$$\n",
    "\\|A|\\|_\\infty \\leq \\sqrt{n}\\|A\\|_2 \\\\\n",
    "\\|A|\\|_\\infty = \\sup{\\frac{\\|Ax\\|_\\infty}{\\|x\\|_\\infty}} \\quad \\textit{x is a nonzero n-vector.} \\\\ \\sup{\\frac{\\|Ax\\|_\\infty}{\\|x\\|_\\infty}} \\leq \\sup{\\frac{\\|Ax\\|_2}{\\|x\\|_\\infty}}  \\leq \\sup{\\frac{\\|Ax\\|_2}{\\frac{\\|x\\|_2}{\\sqrt{n}}}} \\quad \\textit{first benefit from Q1 then Q2} \\\\\n",
    " \\sup{\\frac{\\|Ax\\|_2}{\\frac{\\|x\\|_2}{\\sqrt{n}}}} = \\sqrt{n}\\|A\\|_2\n",
    "$$\n",
    "### Question 4\n",
    "$$  \n",
    "\\|A|\\|_2 \\leq \\sqrt{m}\\|A\\|_\\infty \\\\\n",
    "\\|A|\\|_2  = \\sup{\\frac{\\|Ax\\|_2}{\\|x\\|_2}} \\quad \\textit{$\\|Ax\\|$ is m-vector and x is a non-zero n-vector} \\\\\n",
    "\\sup{\\frac{\\|Ax\\|_2}{\\|x\\|_2}} \\leq \\sup{\\frac{\\sqrt{m}\\|Ax\\|_\\infty}{\\|x\\|_2}} \\quad \\textit{benefit from Q2} \\\\\n",
    "\\sup{\\frac{\\sqrt{m}\\|Ax\\|_\\infty}{\\|x\\|_2}} \\leq \\sup{\\frac{\\sqrt{m}\\|Ax\\|_\\infty}{\\|x\\|_\\infty}} \\quad \\textit{benefit from Q1} \\\\\n",
    "\\sup{\\frac{\\sqrt{m}\\|Ax\\|_\\infty}{\\|x\\|_\\infty}} =  \\sqrt{m}\\|A\\|_\\infty\n",
    "$$"
   ]
  },
  {
   "cell_type": "markdown",
   "metadata": {
    "deletable": true,
    "editable": true
   },
   "source": [
    "## Example 1"
   ]
  },
  {
   "cell_type": "code",
   "execution_count": 12,
   "metadata": {
    "collapsed": false
   },
   "outputs": [
    {
     "name": "stdout",
     "output_type": "stream",
     "text": [
      "ans = 0\n"
     ]
    }
   ],
   "source": [
    "\n",
    "X = [9 ; 0; 0 ; 0;0;0;0;0;0];\n",
    "norm(X,Inf) - norm(X)"
   ]
  },
  {
   "cell_type": "code",
   "execution_count": null,
   "metadata": {
    "collapsed": true
   },
   "outputs": [],
   "source": [
    "## Example 2"
   ]
  },
  {
   "cell_type": "code",
   "execution_count": 20,
   "metadata": {
    "collapsed": false
   },
   "outputs": [
    {
     "name": "stdout",
     "output_type": "stream",
     "text": [
      "ans =  3\n",
      "ans =  3\n",
      "ans = 0\n"
     ]
    }
   ],
   "source": [
    "X = [1 ; 1; 1 ; 1;1;1;1;1;1];\n",
    "\n",
    "norm(X) \n",
    "length(X)^0.5 * norm(X,Inf)\n",
    "length(X)^0.5 * norm(X,Inf) - norm(X)"
   ]
  },
  {
   "cell_type": "code",
   "execution_count": 6,
   "metadata": {
    "collapsed": true
   },
   "outputs": [],
   "source": [
    "## Example 3"
   ]
  },
  {
   "cell_type": "code",
   "execution_count": 29,
   "metadata": {
    "collapsed": false
   },
   "outputs": [
    {
     "name": "stdout",
     "output_type": "stream",
     "text": [
      "ans =\n",
      "\n",
      "   1   1   1   1   1   1   1   1   1\n",
      "   0   0   0   0   0   0   0   0   0\n",
      "   0   0   0   0   0   0   0   0   0\n",
      "   0   0   0   0   0   0   0   0   0\n",
      "   0   0   0   0   0   0   0   0   0\n",
      "   0   0   0   0   0   0   0   0   0\n",
      "   0   0   0   0   0   0   0   0   0\n",
      "   0   0   0   0   0   0   0   0   0\n",
      "   0   0   0   0   0   0   0   0   0\n",
      "\n",
      "ans = 0\n"
     ]
    }
   ],
   "source": [
    "A = X * [1 ; 0; 0 ; 0;0;0;0;0;0]';\n",
    "A'\n",
    "norm(A',inf) - 3 * norm(A')"
   ]
  },
  {
   "cell_type": "code",
   "execution_count": 25,
   "metadata": {
    "collapsed": true
   },
   "outputs": [],
   "source": [
    "## Example 4"
   ]
  },
  {
   "cell_type": "code",
   "execution_count": 28,
   "metadata": {
    "collapsed": false
   },
   "outputs": [
    {
     "name": "stdout",
     "output_type": "stream",
     "text": [
      "A =\n",
      "\n",
      "   1   0   0   0   0   0   0   0   0\n",
      "   1   0   0   0   0   0   0   0   0\n",
      "   1   0   0   0   0   0   0   0   0\n",
      "   1   0   0   0   0   0   0   0   0\n",
      "   1   0   0   0   0   0   0   0   0\n",
      "   1   0   0   0   0   0   0   0   0\n",
      "   1   0   0   0   0   0   0   0   0\n",
      "   1   0   0   0   0   0   0   0   0\n",
      "   1   0   0   0   0   0   0   0   0\n",
      "\n",
      "ans = 0\n"
     ]
    }
   ],
   "source": [
    "A\n",
    "norm(A,2) - 3 * norm(A,inf)"
   ]
  },
  {
   "cell_type": "code",
   "execution_count": 31,
   "metadata": {
    "collapsed": false
   },
   "outputs": [
    {
     "name": "stdout",
     "output_type": "stream",
     "text": [
      "ans =  9\n"
     ]
    }
   ],
   "source": [
    "norm(A',inf)\n"
   ]
  },
  {
   "cell_type": "code",
   "execution_count": null,
   "metadata": {
    "collapsed": true
   },
   "outputs": [],
   "source": []
  }
 ],
 "metadata": {
  "kernelspec": {
   "display_name": "Octave",
   "language": "octave",
   "name": "octave"
  },
  "language_info": {
   "file_extension": ".m",
   "help_links": [
    {
     "text": "GNU Octave",
     "url": "https://www.gnu.org/software/octave/support.html"
    },
    {
     "text": "Octave Kernel",
     "url": "https://github.com/Calysto/octave_kernel"
    },
    {
     "text": "MetaKernel Magics",
     "url": "https://github.com/calysto/metakernel/blob/master/metakernel/magics/README.md"
    }
   ],
   "mimetype": "text/x-octave",
   "name": "octave",
   "version": "4.2.0"
  }
 },
 "nbformat": 4,
 "nbformat_minor": 2
}
