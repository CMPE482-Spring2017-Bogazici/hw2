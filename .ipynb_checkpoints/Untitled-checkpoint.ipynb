{
 "cells": [
  {
   "cell_type": "markdown",
   "metadata": {},
   "source": [
    "# A\n",
    "\n",
    "$$ ||x||_{\\infty} = max(|x_i|) $$\n",
    "$$ ||x||^2 = \\left( \\sum\\limits_{i=1}^{m}{|x_i|^2} \\right) ^{1/2} = \\sqrt{max(x_i)*(max(x_i)+C)} = max(x_i)+C $$ \n",
    "so:\n",
    "$$ ||x||_{\\infty} <= ||x||^2 $$\n"
   ]
  },
  {
   "cell_type": "markdown",
   "metadata": {},
   "source": [
    "# B\n",
    "\n",
    "$$ ||x||^2 = \\left( \\sum\\limits_{i=1}^{m}{|x_i|^2} \\right) ^{1/2} $$\n",
    "if all values of x_i were to be the maximum then this would be:\n",
    "$$ \\sqrt{(max(x_i)*max(x_i)*m)} = max(x_i)*\\sqrt{m} $$\n",
    "this is equal to:\n",
    "$$||x||_{\\infty}  $$\n",
    "and this is the max value of 2-norm so:\n",
    "$$||x||^2 <= \\sqrt{m} ||x||_{\\infty} $$"
   ]
  },
  {
   "cell_type": "markdown",
   "metadata": {},
   "source": [
    "# C\n",
    "\n",
    "$$ ||A||_{\\infty} < \\sqrt{n} ||A||_2 $$\n",
    "by opening we have:\n",
    "$$ sup_{x!=0} \\frac{||Ax||_{\\infty}}{||x||_{\\infty}} <= \\sqrt{n} sup_{x!=0} \\frac{||Ax||_2}{||x||_2} $$\n",
    "here if this holds for every case, it holds for sup too, we reduce sup and try to prove:\n",
    "$$ \\frac{||Ax||_{\\infty}}{||x||_{\\infty}} <= \\sqrt{n} \\frac{||Ax||_2}{||x||_2} $$"
   ]
  },
  {
   "cell_type": "code",
   "execution_count": null,
   "metadata": {
    "collapsed": true
   },
   "outputs": [],
   "source": []
  }
 ],
 "metadata": {
  "kernelspec": {
   "display_name": "Python 2",
   "language": "python",
   "name": "python2"
  },
  "language_info": {
   "codemirror_mode": {
    "name": "ipython",
    "version": 2
   },
   "file_extension": ".py",
   "mimetype": "text/x-python",
   "name": "python",
   "nbconvert_exporter": "python",
   "pygments_lexer": "ipython2",
   "version": "2.7.13"
  }
 },
 "nbformat": 4,
 "nbformat_minor": 2
}
