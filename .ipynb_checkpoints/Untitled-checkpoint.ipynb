{
 "cells": [
  {
   "cell_type": "markdown",
   "metadata": {},
   "source": [
    "# Homework 2 \n",
    "### Melce Husunbeyi _ 2016700222"
   ]
  },
  {
   "cell_type": "markdown",
   "metadata": {},
   "source": [
    "##### (a) Prove that $\\left \\| x \\right \\|_{\\infty} \\leq \\left \\| x \\right \\|_{2}$ \n",
    "\n",
    "Let say $x$ is m-dimensional vector\n",
    "\n",
    "$x=\\begin{bmatrix}\n",
    "             x_1\\\\\n",
    "             x_2\\\\\n",
    "             ...\\\\\n",
    "             x_m\n",
    "     \\end{bmatrix} $  \n",
    "     \n",
    "Assume $|x_{max}| = max_{1\\leq i \\leq m}|x_{i}|$ , then\n",
    "    $\\left \\| x \\right \\|_{\\infty}=|x_{max}|$ \n",
    "\n",
    "Also, $\\left \\| x \\right \\|_{2}=\\sqrt[2]{\\sum_{i=1}^m |x_{i}|^2}$\n",
    "\n",
    "We can take square of each side of this inequality \n",
    "\n",
    "$\\left \\| x \\right \\|_{\\infty}^2 \\leq \\left \\| x \\right \\|_{2}^2$ , since $\\left \\| x \\right \\|_{\\infty} \\geq 0$ and $\\left \\| x \\right \\|_{2} \\geq 0 $\n",
    "\n",
    "$|x_{max}|^2 \\leq |x_1|^2 + |x_2|^2 +..+ |x_{max}|^2 +..+ |x_m|^2$\n",
    "\n",
    "Hence, it can be said that, $\\left \\| x \\right \\|_{\\infty} \\leq \\left \\| x \\right \\|_{2}$\n",
    "            "
   ]
  },
  {
   "cell_type": "markdown",
   "metadata": {
    "collapsed": true
   },
   "source": [
    "##### (b) Prove that $\\left \\| x \\right \\|_{2} \\leq \\sqrt[2]{m} \\left \\| x \\right \\|_{\\infty}$ \n",
    "\n",
    "Let say $x$ is m-dimensional vector\n",
    "\n",
    "$x=\\begin{bmatrix}\n",
    "             x_1\\\\\n",
    "             x_2\\\\\n",
    "             ...\\\\\n",
    "             x_m\n",
    "     \\end{bmatrix} $  \n",
    "     \n",
    "Assume $|x_{max}| = max_{1\\leq i \\leq m}|x_{i}|$ , then\n",
    "    $\\left \\| x \\right \\|_{\\infty}=|x_{max}|$ \n",
    "\n",
    "Also, $\\left \\| x \\right \\|_{2}=\\sqrt[2]{\\sum_{i=1}^m |x_{i}|^2}$\n",
    "\n",
    "We can take square of each side of this inequality \n",
    "\n",
    "$\\left \\| x \\right \\|_{\\infty}^2 \\leq \\left \\| x \\right \\|_{2}^2$ , since $\\left \\| x \\right \\|_{\\infty} \\geq 0$ and $\\left \\| x \\right \\|_{2} \\geq 0 $\n",
    "\n",
    "$|x_1|^2 + |x_2|^2 +..+ |x_{max}|^2 +..+ |x_m|^2 \\leq m |x_{max}|^2 $\n",
    "\n",
    "Hence, it can be said that, $\\left \\| x \\right \\|_{2} \\leq \\sqrt[2]{m} \\left \\| x \\right \\|_{\\infty}$\n",
    "            "
   ]
  },
  {
   "cell_type": "markdown",
   "metadata": {},
   "source": [
    "##### (c) Prove that $||A||_{\\infty} \\leq \\sqrt{n} ||A||_{2}$\n",
    "\n",
    "Let $A$ be $m \\times n$ matrix, and $Ax$ is m-dimensional vector. \n",
    "\n",
    "As we proved at (a), $\\left \\| Ax \\right \\|_{\\infty} \\leq \\left \\| Ax \\right \\|_{2}$\n",
    "\n",
    "$\\frac{\\left \\| Ax \\right \\|_{\\infty}}{\\left \\| x \\right \\|_{\\infty}} \\leq \\frac{\\left \\| Ax \\right \\|_{2}}{\\frac{1}{\\sqrt{n}}\\left \\| x \\right \\|_{2}} = \\sqrt{n} \\frac{\\left \\| Ax \\right \\|_{2}}{\\left \\| x \\right \\|_{2}}$  \n",
    "\n",
    "When we take supremum at both side, \n",
    "\n",
    "$||A||_{\\infty} \\leq \\sqrt{n} ||A||_{2}$"
   ]
  },
  {
   "cell_type": "markdown",
   "metadata": {},
   "source": [
    "##### (d) Prove that $||A||_{2} \\leq \\sqrt{m} ||A||_{\\infty}$\n",
    "\n",
    "Let $A$ be $m \\times n$ matrix, and $Ax$ is m-dimensional vector. \n",
    "\n",
    "As we proved at (b), $\\left \\| x \\right \\|_{2} \\leq \\sqrt[2]{m} \\left \\| x \\right \\|_{\\infty}$ \n",
    "\n",
    "$\\frac{\\left \\| Ax \\right \\|_{\\infty}}{\\left \\| x \\right \\|_{\\infty}} \\leq \\sqrt{m} \\frac{\\left \\| Ax \\right \\|_{2}}{\\left \\| x \\right \\|_{2}}$ \n",
    "\n",
    "When we take supremum at both side, \n",
    "\n",
    "$||A||_{2} \\leq \\sqrt{m} ||A||_{\\infty}$"
   ]
  },
  {
   "cell_type": "code",
   "execution_count": null,
   "metadata": {
    "collapsed": true
   },
   "outputs": [],
   "source": []
  }
 ],
 "metadata": {
  "kernelspec": {
   "display_name": "Octave",
   "language": "octave",
   "name": "octave"
  },
  "language_info": {
   "file_extension": ".m",
   "help_links": [
    {
     "text": "GNU Octave",
     "url": "https://www.gnu.org/software/octave/support.html"
    },
    {
     "text": "Octave Kernel",
     "url": "https://github.com/Calysto/octave_kernel"
    },
    {
     "text": "MetaKernel Magics",
     "url": "https://github.com/calysto/metakernel/blob/master/metakernel/magics/README.md"
    }
   ],
   "mimetype": "text/x-octave",
   "name": "octave",
   "version": "4.0.2"
  }
 },
 "nbformat": 4,
 "nbformat_minor": 2
}
