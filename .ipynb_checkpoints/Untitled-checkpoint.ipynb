{
 "cells": [
  {
   "cell_type": "markdown",
   "metadata": {},
   "source": [
    "\n",
    "a)\n",
    "\n",
    "\n",
    "Let say transpose of $x = [x_{1}, x_{2}, ..... x_{m}]$ \n",
    "\n",
    "$\\left \\| x \\right \\|_{\\infty}=|x_{max}|$ where $|x_{max}|$ is the biggest index of the vector x.\n",
    "\n",
    "$\\left \\| x \\right \\|_{2}=\\sqrt[2]{x_{1}^2+x_{2}^2+..x_{max}^2..+x_{m}^2}$\n",
    "\n",
    "$\\left \\| x \\right \\|_{2}^2=x_{1}^2+x_{2}^2+.. +x_{max}^2+..+x_{m}^2$ \n",
    "\n",
    "$\\left \\| x \\right \\|_{\\infty}^2=|x_{max}|^2$ \n",
    "\n",
    "And it is obvious that $\\left \\| x \\right \\|_{\\infty}^2 \\leq \\left \\| x \\right \\|_{2}^2$ \n",
    "\n",
    "Because of that norms are always positive $\\left \\| x \\right \\|_{\\infty} \\leq \\left \\| x \\right \\|_{2}$ \n",
    "\n",
    "\n"
   ]
  },
  {
   "cell_type": "markdown",
   "metadata": {},
   "source": [
    "b)\n",
    "\n",
    "If we take the square of each side of the inequality in exercise b\n",
    " \n",
    " $\\left \\| x \\right \\|_{2}^2 = x_{1}^2+x_{2}^2+..x_{max}^2..+x_{m}^2$ \n",
    "\n",
    "$(\\sqrt{m}\\left \\| x \\right \\|_{\\infty})^2=m|x_{max}|^2$ \n",
    "\n",
    "So it is obvious that $(\\sqrt{m}\\left \\| x \\right \\|_{\\infty})^2 \\geq \\left \\| x \\right \\|_{2}^2 \\\\$\n",
    "\n",
    "Because of that norms are always positive $\\sqrt{m}\\left \\| x \\right \\|_{\\infty} \\geq \\left \\| x \\right \\|_{2}$ "
   ]
  },
  {
   "cell_type": "markdown",
   "metadata": {},
   "source": [
    "c)\n",
    "\n",
    "$A_{m \\times n}$ is a matrix \n",
    "which can be shown as \n",
    "$A=\\begin{bmatrix}\n",
    "       r_1\\\\\n",
    "       r_2\\\\\n",
    "       .\\\\\n",
    "       .\\\\\n",
    "       r_m\n",
    "\\end{bmatrix}$ \n",
    "\n",
    "where each individual $r$ is row vector as $r_i=[r_{i1}, r_{i2},...,r_{in}]$ \n",
    "\n",
    "And $||A||_{\\infty}$ is maximum row summation \n",
    "\n",
    "i.e. $||A||_{\\infty}=||r_{max}||_{1}=|r_{max,1}|+|r_{max,2}|+..+|r_{max,n}|$\n",
    "\n",
    "\n",
    "Now consider that $||A||_{2}=sup ||Az||_{2}$ where $z$ is the vector with $||z||_{2}=1$  and assume that vector $z$ satisfies this equation. \n",
    "\n",
    "Therefore $||A||_{2}=\\sqrt[2]{|r_{1} z|^{2}+|r_{2} z|^{2}+..|r_{max} z|^2..+|r_{m} z|^{2}}$\n",
    "\n",
    "And square of the norm-2 and norm-infinite of the A are:\n",
    "\n",
    "\n",
    "$||A||_{\\infty}^2=||r_{max}||_{1}^2=(|r_{max,1}|+|r_{max,2}|+..+|r_{max,n}|)^2$\n",
    "\n",
    "$||A||_{2}^2=|r_{1} z|^{2}+|r_{2} z|^{2}+..|r_{max} z|^2..+|r_{m} z|^{2}$\n",
    "\n",
    "Now invastigate $r_{max}$ row:\n",
    "\n",
    "$r_{max}=[r_{max,1},r_{max,2},...,r_{max,n}]$ \n",
    "\n",
    "And assume $k$ is a vector $k=\\frac{r_{max}^T}{||r_{max}^T||}$ (i.e. length of the vector $k$ is one and it has same direction with row $r_{max}$).\n",
    "\n",
    "It means that $r_{max}.k=||r_{max}||_2=\\sqrt{r_{max,1}^2+r_{max,2}^2+...+r_{max,n}^2}$.\n",
    "\n",
    "We know that $||A||_{2}=||Az||_{2} \\geq ||Ak||_{2}$\n",
    "\n",
    "And $(\\sqrt{n} ||Ak||_{2})^2=n(|r_{1}k|^{2}+|r_{2}k|^{2}+..|r_{max}k|^2..+|r_{m}k|^{2})$\n",
    "\n",
    "$ (\\sqrt{n} ||Ak||_{2})^2 \\geq n|r_{max}k|^2 = n(r_{max,1}^2+r_{max,2}^2+...+r_{max,n}^2) \\geq (|r_{max,1}|+|r_{max,2}|+..+|r_{max,n}|)^2 = ||A||_{\\infty}^2$\n",
    "\n",
    "(notice that proof of the $n(r_{max,1}^2+r_{max,2}^2+...+r_{max,n}^2) \\geq (|r_{max,1}|+|r_{max,2}|+..+|r_{max,n}|)^2$ is another story and I do not prove it here.)\n",
    "\n",
    "As a result $(\\sqrt{n} ||Az||_{2})^2 =(\\sqrt{n} ||A||_{2})^2 \\geq (\\sqrt{n} ||Ak||_{2})^2 \\geq ||A||_{\\infty}^2$\n",
    "\n",
    "And $\\sqrt{n} ||A||_{2} \\geq ||A||_{\\infty}$"
   ]
  },
  {
   "cell_type": "markdown",
   "metadata": {
    "collapsed": true
   },
   "source": [
    "d)\n",
    "\n",
    "$A_{m \\times n}$ is a matrix \n",
    "which can be shown as \n",
    "$A=\\begin{bmatrix}\n",
    "       r_1\\\\\n",
    "       r_2\\\\\n",
    "       .\\\\\n",
    "       .\\\\\n",
    "       r_m\n",
    "\\end{bmatrix}$ \n",
    "\n",
    "where each individual $r$ is row vector as $r_i=[r_{i1}, r_{i2},...,r_{in}]$ \n",
    "\n",
    "And $||A||_{\\infty}$ is maximum row summation \n",
    "\n",
    "i.e. $||A||_{\\infty}=||r_{max}||_{1}=|r_{max,1}|+|r_{max,2}|+..+|r_{max,n}|$\n",
    "\n",
    "Now consider that $||A||_{2}=sup ||Az||_{2}$ where $z$ is the vector with $||z||_{2}=1$  and assume that vector $z$ satisfies this equation. \n",
    "\n",
    "Therefore $||A||_{2}=\\sqrt[2]{|r_{1} z|^{2}+|r_{2} z|^{2}+..|r_{max} z|^2..+|r_{m} z|^{2}}$\n",
    "\n",
    "Because of that $|r_i z|$ is an inner product, for any row vector $r_i$,  $|r_i z|^2=(||r_{i}||_2.||z||_2.cos(\\alpha ))^2=||r_{i}||_2^2.||z||_2^2.cos(\\alpha )^2 \\leq ||r_{i}||_2^2$  \n",
    "\n",
    "where $\\alpha$ is angle between vector $r_i^T$ and $z$\n",
    "\n",
    "\n",
    "And notice that\n",
    "\n",
    "$||r_{i}||_2^2=r_{i,1}^2+r_{i,2}^2+...+r_{i,n}^2 \\leq (r_{i,1}+r_{i,2}+...+r_{i,n})^2 \\leq ||r_{i}||_1^2$\n",
    "\n",
    "Therefore\n",
    "\n",
    "$|r_i z|^2 \\leq ||r_{i}||_1^2$\n",
    "\n",
    "In conclusion\n",
    "\n",
    "$||A||_{2}^2=|r_{1} z|^{2}+|r_{2} z|^{2}+..|r_{max} z|^2..+|r_{m} z|^{2} \\leq ||r_{1}||_1^2+||r_{2}||_1^2+..+||r_{max}||_1^2+..+||r_{m}||_1^2 \\leq m||r_{max}||_1^2 = m||A||_{\\infty}^2$ \n",
    "\n",
    "At the end\n",
    "\n",
    "$||A||_{2} \\leq \\sqrt{m}||A||_{\\infty}$"
   ]
  },
  {
   "cell_type": "code",
   "execution_count": null,
   "metadata": {
    "collapsed": true
   },
   "outputs": [],
   "source": []
  },
  {
   "cell_type": "code",
   "execution_count": null,
   "metadata": {
    "collapsed": true
   },
   "outputs": [],
   "source": []
  }
 ],
 "metadata": {
  "kernelspec": {
   "display_name": "Octave",
   "language": "octave",
   "name": "octave"
  },
  "language_info": {
   "file_extension": ".m",
   "help_links": [
    {
     "text": "GNU Octave",
     "url": "https://www.gnu.org/software/octave/support.html"
    },
    {
     "text": "Octave Kernel",
     "url": "https://github.com/Calysto/octave_kernel"
    },
    {
     "text": "MetaKernel Magics",
     "url": "https://github.com/calysto/metakernel/blob/master/metakernel/magics/README.md"
    }
   ],
   "mimetype": "text/x-octave",
   "name": "octave",
   "version": "4.0.2"
  }
 },
 "nbformat": 4,
 "nbformat_minor": 2
}
