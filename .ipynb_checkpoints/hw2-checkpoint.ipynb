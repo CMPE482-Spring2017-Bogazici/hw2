{
 "cells": [
  {
   "cell_type": "markdown",
   "metadata": {},
   "source": [
    "# Homework 2\n"
   ]
  },
  {
   "cell_type": "markdown",
   "metadata": {},
   "source": [
    "## Exercise 3.3"
   ]
  },
  {
   "cell_type": "markdown",
   "metadata": {},
   "source": [
    "#### (a) $\\|x\\|_\\infty \\leq \\|x\\|_{2}$"
   ]
  },
  {
   "cell_type": "markdown",
   "metadata": {},
   "source": [
    "$ \\|x\\|_\\infty = ((\\max\\limits_{i} |x_{i}|)^2)^{1/2} $ "
   ]
  },
  {
   "cell_type": "markdown",
   "metadata": {},
   "source": [
    "$ \\leq (\\sum \\limits_{i=1}^{m} (\\max \\limits_{i} |x_{i}^2|))^{1/2} = \\|x\\|_{2} $"
   ]
  },
  {
   "cell_type": "markdown",
   "metadata": {},
   "source": [
    "$ x_{m*1} =  [2,1,\\dots,0]^T \\hspace{5mm}, then \\hspace{3mm} \\|x\\|_\\infty = 2 \\hspace{3mm} and \\hspace{3mm} \\|x\\|_{2} = \\sqrt{5}$"
   ]
  },
  {
   "cell_type": "markdown",
   "metadata": {},
   "source": [
    "#### (b) $\\|x\\|_{2} \\leq \\sqrt{m}\\|x\\|_\\infty$"
   ]
  },
  {
   "cell_type": "markdown",
   "metadata": {},
   "source": [
    "$ \\|x\\|_{2} = (\\sum\\limits_{i=1}^{m} \\max\\limits_{i} |x_{i}^2|)^{1/2}  \\leq \\sqrt{m.(\\max\\limits_{i} |x_{i}|)^2} = \\sqrt{5}.\\|x\\|_\\infty $"
   ]
  },
  {
   "cell_type": "markdown",
   "metadata": {},
   "source": [
    "$ x_{m*1} =  [1,1,1,1,0]^T \\hspace{5mm}, then \\hspace{3mm} m = 5 \\hspace{3mm} \\|x\\|_\\infty = 1 \\hspace{3mm} and \\hspace{3mm} \\|x\\|_{2} = \\sqrt{4}=2$"
   ]
  },
  {
   "cell_type": "markdown",
   "metadata": {},
   "source": [
    "#### (c) $\\|A\\|_\\infty \\leq \\sqrt{n}\\|A\\|_{2}$"
   ]
  },
  {
   "cell_type": "markdown",
   "metadata": {},
   "source": [
    "$ \\|A\\|_{\\infty}= \\sup\\limits_{x \\neq 0}\\frac{ \\|Ax\\|_{\\infty}}  {\\|x\\|_{\\infty}} \\leq \\sup\\limits_{x \\neq 0}\\frac{ \\|Ax\\|_{2}}  {\\|x\\|_{2}} \\leq \\sup\\limits_{x \\neq 0}\\frac{ \\|Ax\\|_{2}}  {\\|x\\|_{2}/ \\sqrt{n}} = \\sqrt{n}\\|A\\|_{2}$"
   ]
  },
  {
   "cell_type": "markdown",
   "metadata": {},
   "source": [
    "$ A_{mxn} = \\begin{bmatrix}\n",
    "   1 & 1 & 1 & 1 \\\\\\\\\n",
    "   0 & 0 & 0 & 0 \\\\\\\\\n",
    "   0 & 0 & 0 & 0\n",
    " \\end{bmatrix}_{mxn}  A ^T = \\begin{bmatrix}\n",
    "   1 & 0 & 0  \\\\\\\\\n",
    "   1 & 0 & 0  \\\\\\\\\n",
    "   1 & 0 & 0 \\\\\\\\\n",
    "   1 & 0 & 0 \\\\\\\\\n",
    " \\end{bmatrix}_{nxm}  A ^T A = \\begin{bmatrix}\n",
    "    1 & 1 & 1 & 1  \\\\\\\\\n",
    "    1 & 1 & 1 & 1  \\\\\\\\\n",
    "    1 & 1 & 1 & 1  \\\\\\\\\n",
    "    1 & 1 & 1 & 1  \n",
    " \\end{bmatrix}_{nxn}$\n",
    " "
   ]
  },
  {
   "cell_type": "markdown",
   "metadata": {},
   "source": [
    "$\\|A\\|_\\infty = 4 = n$\n",
    "\n",
    "$\\|A\\|_{2} =\\sqrt{tr(A^TA)}= \\sqrt{4} = \\sqrt{n} = 2$"
   ]
  },
  {
   "cell_type": "markdown",
   "metadata": {},
   "source": [
    "#### (d) $\\|A\\|_{2} \\leq \\sqrt{m}\\|A\\|_\\infty$"
   ]
  },
  {
   "cell_type": "markdown",
   "metadata": {},
   "source": [
    "$ \\|A\\|_{{2}}= \\sup\\limits_{x \\neq 0}\\frac{ \\|Ax\\|_{{2}}}  {\\|x\\|_{{2}}} \\leq \\sup\\limits_{x \\neq 0}\\frac{ \\|Ax\\|\\infty}  {\\|x\\|\\infty} \\leq \\sup\\limits_{x \\neq 0}\\frac{\\sqrt{m} \\|Ax\\|\\infty}  {\\|x\\|\\infty} = \\sqrt{m}\\|A\\|\\infty $"
   ]
  },
  {
   "cell_type": "markdown",
   "metadata": {},
   "source": [
    "$ A_{mxn} = \\begin{bmatrix}\n",
    "   1 & 0 & 0  \\\\\\\\\n",
    "   1 & 0 & 0 \\\\\\\\\n",
    "   1 & 0 & 0 \\\\\\\\\n",
    "   1 & 0 & 0 \n",
    " \\end{bmatrix}_{mxn}  A ^T = \\begin{bmatrix}\n",
    "   1 & 1 & 1 & 1   \\\\\\\\\n",
    "   0 & 0 & 0 & 0   \\\\\\\\\n",
    "   0 & 0 & 0 & 0\n",
    " \\end{bmatrix}_{nxm}  A ^T A = \\begin{bmatrix}\n",
    "    4 & 0 & 0  \\\\\\\\\n",
    "    0 & 0 & 0   \\\\\\\\\n",
    "    0 & 0 & 0  \n",
    " \\end{bmatrix}_{nxn}$\n",
    " "
   ]
  },
  {
   "cell_type": "markdown",
   "metadata": {},
   "source": [
    "$\\|A\\|_\\infty = 1$\n",
    "\n",
    "$\\|A\\|_{2} =\\sqrt{tr(A^TA)}= \\sqrt{4}  = 2$"
   ]
  }
 ],
 "metadata": {
  "kernelspec": {
   "display_name": "Python 2",
   "language": "python",
   "name": "python2"
  },
  "language_info": {
   "codemirror_mode": {
    "name": "ipython",
    "version": 2
   },
   "file_extension": ".py",
   "mimetype": "text/x-python",
   "name": "python",
   "nbconvert_exporter": "python",
   "pygments_lexer": "ipython2",
   "version": "2.7.13"
  }
 },
 "nbformat": 4,
 "nbformat_minor": 2
}
