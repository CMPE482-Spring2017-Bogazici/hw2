{
 "cells": [
  {
   "cell_type": "markdown",
   "metadata": {},
   "source": [
    "# Homework 2 \n",
    "## Exercise 3.3 \n",
    "## Deniz Ekiz\n",
    "## 2016700051\n",
    "\n",
    "a).\n",
    "$\\begin{eqnarray}\n",
    "\\|x\\|_\\infty \n",
    "& = &  \\max\\{\\left|x_1\\right|,\\left|x_2\\right|,\\dots,\\left|x_m\\right|\\} \n",
    "& = & \\sqrt{ \\max\\{\\left|x_i\\right|\\}^2} \n",
    "& = &  \\sqrt{\\sum_{i=1}^m |x_i|^2}\n",
    "& = &  \\left\\|x\\right\\|_2\n",
    "\\end{eqnarray}$\n",
    "\n",
    "Example:\n",
    "\n",
    "$\\begin{eqnarray}\n",
    "x \n",
    "& = & [2,0,\\dots,0]^T , \\|x\\|_\\infty  = 2 ,\\|x\\|_2 = 2\n",
    "\\end{eqnarray}$"
   ]
  },
  {
   "cell_type": "markdown",
   "metadata": {},
   "source": [
    "(b). Show that following equation is valid: $ \\begin{eqnarray}\n",
    "\\left\\|x\\right\\|_2 \\leq \\sqrt{m}\\|x\\|_\\infty  \n",
    "\\end{eqnarray}$\n",
    "\n",
    "$\\begin{eqnarray}\n",
    "\\left\\|x\\right\\|_2\n",
    "& = & \\sqrt{\\sum_{i=1}^m |x_i|^2}\n",
    "& \\leq & \\sqrt{m.\\max\\{\\left|x_i\\right|\\}^2}\n",
    "& = & \\sqrt{m}.\\|x\\|_\\infty\n",
    "\\end{eqnarray}$\n",
    "\n",
    "$\\begin{eqnarray}\n",
    "x \n",
    "& = & [1,0,\\dots,0]^T , \\|x\\|_\\infty  = 1 ,\\|x\\|_2 = \\sqrt{1}\n",
    "\\end{eqnarray}$\n"
   ]
  },
  {
   "cell_type": "markdown",
   "metadata": {},
   "source": [
    "(c). We already validated (a) and (b) also From 3.6 we know the following equality\n",
    "$\n",
    "\\begin{eqnarray}\n",
    "\\|A\\|_\\infty\n",
    "& = & \\sup_{x\\neq0}\\dfrac{\\|Ax\\|_\\infty}{\\|x\\|_\\infty}\n",
    "\\end{eqnarray}\n",
    "$\n",
    "\n",
    "We already validated equation in (a) and (b) in this exercise. We can also apply these inequalities.\n",
    "\n",
    "$\n",
    "\\begin{eqnarray}\n",
    " \\sup_{x\\neq0}\\dfrac{\\|Ax\\|_\\infty}{\\|x\\|_\\infty}\n",
    "& \\leq & \\sup_{x\\neq0}\\dfrac{\\|Ax\\|_2}{\\|x\\|_2/\\sqrt{n}} \n",
    "& = & \\sup_{x_n=1}\\sqrt{n}\\left\\|A\\right\\|_2\n",
    "\\end{eqnarray}\n",
    "$\n",
    "\n",
    "Thanks to previous efforts, the proof of (c) is done.\n",
    "\n",
    "For example:\n",
    "\n",
    "Since \n",
    "\n",
    "$\n",
    "\\begin{eqnarray}\n",
    "\\|x\\|_n\n",
    "& = & 1\n",
    "\\end{eqnarray}\n",
    "$\n",
    "\n",
    "\n",
    "A = $ \\begin{bmatrix}\n",
    "    1 & 1 & 1 & \\dots & 1 \\\\\n",
    "    \\vdots & \\vdots & \\vdots & \\dots & \\vdots \\\\\n",
    "    0 & 0 & 0 & \\dots & 0\n",
    "  \\end{bmatrix}$\n",
    "  \n",
    "  $\\begin{eqnarray}\n",
    "\\|A\\|_\\infty  = n ,\\|A\\|_2 & = & \\sqrt{AA^T} = \\sqrt{n}\n",
    "\\end{eqnarray}$\n",
    "  \n",
    "  "
   ]
  },
  {
   "cell_type": "markdown",
   "metadata": {},
   "source": [
    "(d). Similiar to c, the equation will be validated using (a) and (b). This time we will use (b) in the nominator and (a) in the denominator. \n",
    "\n",
    "\n",
    "\n",
    "$\n",
    "\\begin{eqnarray}\n",
    " \\sup_{x\\neq0}\\dfrac{\\|Ax\\|_2}{\\|x\\|_2}\n",
    "& \\leq & \\sup_{x\\neq0}\\dfrac{\\sqrt{m}\\|Ax\\|_\\infty }{\\|x\\|_\\infty} \n",
    "& = & \\sup_{x_m=1} \\sqrt{m}\\left\\|A\\right\\|_\\infty\n",
    "\\end{eqnarray}\n",
    "$\n",
    "\n",
    "\n",
    "Since \n",
    "\n",
    "$\n",
    "\\begin{eqnarray}\n",
    "\\|x\\|_m\n",
    "& = & 1\n",
    "\\end{eqnarray}\n",
    "$\n",
    "\n",
    "\n",
    "A = $ \\begin{bmatrix}\n",
    "    1 & 0 & 0 & \\dots & 0 \\\\\n",
    "    \\vdots & \\vdots & \\vdots & \\dots & \\vdots \\\\\n",
    "    1 & 0 & 0 & \\dots & 0\n",
    "  \\end{bmatrix}$\n",
    "  \n",
    "  $\\begin{eqnarray}\n",
    "\\|A\\|_\\infty  = 1 ,\\|A\\|_2 & = & \\sqrt{AA^T} = \\sqrt{m}\n",
    "\\end{eqnarray}$\n",
    "\n"
   ]
  },
  {
   "cell_type": "code",
   "execution_count": null,
   "metadata": {
    "collapsed": true
   },
   "outputs": [],
   "source": []
  }
 ],
 "metadata": {
  "kernelspec": {
   "display_name": "Octave",
   "language": "octave",
   "name": "octave"
  },
  "language_info": {
   "file_extension": ".m",
   "help_links": [
    {
     "text": "GNU Octave",
     "url": "https://www.gnu.org/software/octave/support.html"
    },
    {
     "text": "Octave Kernel",
     "url": "https://github.com/Calysto/octave_kernel"
    },
    {
     "text": "MetaKernel Magics",
     "url": "https://github.com/calysto/metakernel/blob/master/metakernel/magics/README.md"
    }
   ],
   "mimetype": "text/x-octave",
   "name": "octave",
   "version": "3.8.0"
  }
 },
 "nbformat": 4,
 "nbformat_minor": 2
}
