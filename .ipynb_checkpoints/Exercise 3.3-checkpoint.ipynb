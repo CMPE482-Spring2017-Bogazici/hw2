{
 "cells": [
  {
   "cell_type": "markdown",
   "metadata": {},
   "source": [
    "# Exercise 3.3\n",
    "\n"
   ]
  },
  {
   "cell_type": "markdown",
   "metadata": {},
   "source": [
    "Vector and matrix p-norms are related by various inequalities, often involving the dimensions m or n. \n",
    "\n",
    "For each of the following, verify the inequality and give an example of a nonzero vector or matrix(for general m,n) for which equality is achieved.\n",
    "\n",
    "In this problem x is an m-vector and A is an m x n matrix."
   ]
  },
  {
   "cell_type": "markdown",
   "metadata": {},
   "source": [
    "## (a) $$ ||x||_\\infty \\leq ||x||_2 $$\n",
    "\n",
    "$$ \\Vert x \\Vert_\\infty $$"
   ]
  },
  {
   "cell_type": "markdown",
   "metadata": {},
   "source": [
    "Lets consider a vector x; \n",
    "\\begin{equation}\n",
    "    x\n",
    "     =\n",
    "    \\begin{bmatrix}\n",
    "    1 \\\\\n",
    "    2 \\\\\n",
    "    3\n",
    "    \\end{bmatrix}\n",
    "\\end{equation}\n",
    "\n",
    "Here, \n",
    "\\begin{equation*}\n",
    "||x||_\\infty = max |x_i| , where (1\\leq i \\leq m) = 3 \n",
    "\\end{equation*}\n",
    "\n",
    "\\begin{equation*}\n",
    "||x||_2 = (\\sum_{i=1}^m |x_i|^2)^{1/2} = 3.742\n",
    "\\end{equation*}\n",
    "\n",
    "\\begin{equation*}\n",
    "3 \\leq 3.742\n",
    "\\end{equation*}\n"
   ]
  },
  {
   "cell_type": "markdown",
   "metadata": {},
   "source": [
    "### (b)  $$||x||_2 \\leq \\sqrt{m}||x||_\\infty $$"
   ]
  },
  {
   "cell_type": "markdown",
   "metadata": {},
   "source": [
    "\\begin{equation*}\n",
    "\\sqrt{m}||x||_\\infty = 1.732*3 = 5.196\n",
    "\\end{equation*}\n",
    "\n",
    "\\begin{equation*}\n",
    "3.742 \\leq 5.196\n",
    "\\end{equation*}"
   ]
  },
  {
   "cell_type": "markdown",
   "metadata": {},
   "source": [
    "### (c)  $$||A||_\\infty \\leq \\sqrt{n}||A||_2 $$"
   ]
  },
  {
   "cell_type": "code",
   "execution_count": null,
   "metadata": {
    "collapsed": true
   },
   "outputs": [],
   "source": []
  },
  {
   "cell_type": "markdown",
   "metadata": {},
   "source": [
    "### (d) $$||A||_2 \\leq \\sqrt{m}||A||_\\infty $$"
   ]
  },
  {
   "cell_type": "code",
   "execution_count": null,
   "metadata": {
    "collapsed": true
   },
   "outputs": [],
   "source": []
  }
 ],
 "metadata": {
  "kernelspec": {
   "display_name": "Octave",
   "language": "octave",
   "name": "octave"
  },
  "language_info": {
   "file_extension": ".m",
   "help_links": [
    {
     "text": "GNU Octave",
     "url": "https://www.gnu.org/software/octave/support.html"
    },
    {
     "text": "Octave Kernel",
     "url": "https://github.com/Calysto/octave_kernel"
    },
    {
     "text": "MetaKernel Magics",
     "url": "https://github.com/calysto/metakernel/blob/master/metakernel/magics/README.md"
    }
   ],
   "mimetype": "text/x-octave",
   "name": "octave",
   "version": "4.2.0"
  }
 },
 "nbformat": 4,
 "nbformat_minor": 2
}
