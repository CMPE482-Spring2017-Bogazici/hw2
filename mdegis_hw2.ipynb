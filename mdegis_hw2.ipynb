{
 "cells": [
  {
   "cell_type": "markdown",
   "metadata": {
    "deletable": true,
    "editable": true
   },
   "source": [
    "# CMPE 482 Homework #2\n",
    "\n",
    "### Melih Değiş - 2016700033\n",
    "\n",
    "Solve the exercise 3.3 from Numerical Linear Algebra (LIoyd N. Trefethen and David Bau)\n"
   ]
  },
  {
   "cell_type": "markdown",
   "metadata": {
    "deletable": true,
    "editable": true
   },
   "source": [
    "### Exercise 3.3\n",
    "\n",
    "Vector and matrix p-norms are related by various inequalities, often involving the dimensions m or n. \n",
    "\n",
    "For each of the following, verify the inequality and give an example of a nonzero vector or matrix (for general m,n) for which equality is achieved. \n",
    "\n",
    "In this problem x is a *m*-vector and A is a *m × n* matrix."
   ]
  },
  {
   "cell_type": "markdown",
   "metadata": {
    "deletable": true,
    "editable": true
   },
   "source": [
    "## a) $\\|x\\|_\\infty \\leq \\|x\\|_{2}$"
   ]
  },
  {
   "cell_type": "markdown",
   "metadata": {
    "deletable": true,
    "editable": true
   },
   "source": [
    "Assume $\\vert x_{i_0} \\vert = max_{1 \\leq i \\leq m} \\vert x_i \\vert$. Then $\\|x\\|_\\infty = \\vert x_{i_0} \\vert \\leq \\sqrt{\\sum_{i=1}^{m}\\vert x_i \\vert^2} = \\|x\\|_2$ .\n",
    "\n",
    "For $x = \\alpha e_i (\\alpha \\in \\mathbb{C}, 1 \\leq i \\leq m)$, the equality holds."
   ]
  },
  {
   "cell_type": "markdown",
   "metadata": {
    "deletable": true,
    "editable": true
   },
   "source": [
    "To prove it programitcly first, let's create random vector $x$, then calculate and check $\\|x\\|_\\infty \\leq \\|x\\|_{2}$"
   ]
  },
  {
   "cell_type": "code",
   "execution_count": 1,
   "metadata": {
    "collapsed": false,
    "deletable": true,
    "editable": true
   },
   "outputs": [
    {
     "name": "stdout",
     "output_type": "stream",
     "text": [
      "infinite norm: 0.700778660748\n",
      "second_norm: 1.13509022571\n"
     ]
    }
   ],
   "source": [
    "import numpy\n",
    "from numpy.random import rand\n",
    "from numpy.linalg import norm\n",
    "\n",
    "x = rand(5)\n",
    "infinite_norm = norm(x, numpy.inf)\n",
    "second_norm = norm(x, 2)\n",
    "print(\"infinite norm: {}\\nsecond_norm: {}\".format(infinite_norm, second_norm))"
   ]
  },
  {
   "cell_type": "markdown",
   "metadata": {
    "deletable": true,
    "editable": true
   },
   "source": [
    "Just to be sure, do it more than once:"
   ]
  },
  {
   "cell_type": "code",
   "execution_count": 2,
   "metadata": {
    "collapsed": false,
    "deletable": true,
    "editable": true
   },
   "outputs": [
    {
     "name": "stdout",
     "output_type": "stream",
     "text": [
      "Testing with a random vector that has length 100, after 10000 trials, test_a is True\n"
     ]
    }
   ],
   "source": [
    "def test_a(vector_len, times):\n",
    "    value = True\n",
    "    while(value and times > 0):\n",
    "        x = rand(vector_len)\n",
    "        value = norm(x, numpy.inf) <= norm(x, 2)\n",
    "        times -=1\n",
    "    return value\n",
    "\n",
    "vector_len, times = 100, 10000\n",
    "print(\"Testing with a random vector that has length {}, after {} trials, test_a is {}\"\n",
    "      .format(vector_len, times, test_a(vector_len, times)))"
   ]
  },
  {
   "cell_type": "markdown",
   "metadata": {
    "deletable": true,
    "editable": true
   },
   "source": [
    "## b) $ \\|x\\|_{2} \\leq \\sqrt m\\ \\|x\\|_{\\infty} $"
   ]
  },
  {
   "cell_type": "markdown",
   "metadata": {
    "deletable": true,
    "editable": true
   },
   "source": [
    "Assume $\\vert x_{i_0} \\vert = max_{1 \\leq i \\leq m} \\vert x_i \\vert$. Then $\\|x\\|_2 = \\sqrt{\\sum_{i=1}^{m}\\vert x_i \\vert^2} \\leq \\sqrt{\\sum_{i=1}^{m}\\vert x_{i_0} \\vert^2} = \\sqrt{m}\\vert x_{i_0}\\vert = \\|x\\|_{\\infty}$.\n",
    "\n",
    "For $x = \\alpha \\begin{bmatrix}\n",
    "         1 \\\\\n",
    "         1 \\\\\n",
    "         \\dots \\\\\n",
    "         1\n",
    "        \\end{bmatrix} (\\alpha \\in \\mathbb{C})$, the equality holds."
   ]
  },
  {
   "cell_type": "code",
   "execution_count": 3,
   "metadata": {
    "collapsed": false,
    "deletable": true,
    "editable": true
   },
   "outputs": [
    {
     "name": "stdout",
     "output_type": "stream",
     "text": [
      "second_norm <= sqrt(5) * infinite_norm:\n",
      "1.48567616992 <= sqrt(5)*0.906353680178 is 3.01097300644\n",
      "Equation is True\n"
     ]
    }
   ],
   "source": [
    "x = rand(5)\n",
    "infinite_norm = norm(x, numpy.inf)\n",
    "second_norm = norm(x, 2)\n",
    "print(\"second_norm <= sqrt(5) * infinite_norm:\\n{} <= sqrt(5)*{} is {}\\nEquation is {}\"\n",
    "      .format(second_norm, infinite_norm, \n",
    "              second_norm * infinite_norm * 5**0.5,\n",
    "              second_norm <= infinite_norm * 5**0.5,))"
   ]
  },
  {
   "cell_type": "markdown",
   "metadata": {
    "deletable": true,
    "editable": true
   },
   "source": [
    "Just to be sure, do it more than once:"
   ]
  },
  {
   "cell_type": "code",
   "execution_count": 4,
   "metadata": {
    "collapsed": false,
    "deletable": true,
    "editable": true
   },
   "outputs": [
    {
     "name": "stdout",
     "output_type": "stream",
     "text": [
      "Testing with a random vector that has length 100, after 10000 trials, test_b is True\n"
     ]
    }
   ],
   "source": [
    "def test_b(vector_len, times):\n",
    "    value = True\n",
    "    while(value and times > 0):\n",
    "        x = rand(vector_len)\n",
    "        value = norm(x, 2) <= vector_len**0.5 * norm(x, numpy.inf)\n",
    "        times -=1\n",
    "    return value\n",
    "\n",
    "vector_len, times = 100, 10000\n",
    "print(\"Testing with a random vector that has length {}, after {} trials, test_b is {}\"\n",
    "      .format(vector_len, times, test_b(vector_len, times)))"
   ]
  },
  {
   "cell_type": "markdown",
   "metadata": {
    "deletable": true,
    "editable": true
   },
   "source": [
    "## c) $ \\|A\\|_{\\infty} \\leq \\sqrt n \\|A\\|_{2}$"
   ]
  },
  {
   "cell_type": "markdown",
   "metadata": {},
   "source": [
    "For any $x \\in \\mathbb{C}^n \\setminus \\{0\\}$, by part $(a)$ and $(b)$\n",
    "\n",
    "$$ \\dfrac{\\|Ax\\|_{\\infty}}{{\\|x\\|_{\\infty}}} \\leq \\dfrac{\\|Ax\\|_{2}}{\\dfrac{1}{\\sqrt n}\\|x\\|_{2}} = \\sqrt n \\dfrac{\\|Ax\\|_{2}}{\\|x\\|_{2}}$$\n",
    "\n",
    "Take supremum on both sides, we have $\\|A\\|_{\\infty} \\leq \\sqrt n \\|A\\|_{2}$"
   ]
  },
  {
   "cell_type": "code",
   "execution_count": 5,
   "metadata": {
    "collapsed": false,
    "deletable": true,
    "editable": true
   },
   "outputs": [
    {
     "name": "stdout",
     "output_type": "stream",
     "text": [
      "infinite_norm <= sqrt(5) * second_norm:\n",
      "2.84996672546 <= sqrt(5)*2.25450987346 is 5.041237333\n",
      "Equation is True\n"
     ]
    }
   ],
   "source": [
    "x = rand(4, 5)\n",
    "infinite_norm = norm(x, numpy.inf)\n",
    "second_norm = norm(x, 2)\n",
    "print(\"infinite_norm <= sqrt(5) * second_norm:\\n{} <= sqrt(5)*{} is {}\\nEquation is {}\"\n",
    "      .format(infinite_norm, second_norm,\n",
    "              second_norm * 5**0.5,\n",
    "              infinite_norm <= second_norm * 5**0.5,))"
   ]
  },
  {
   "cell_type": "markdown",
   "metadata": {
    "deletable": true,
    "editable": true
   },
   "source": [
    "Just to be sure, do it more than once:"
   ]
  },
  {
   "cell_type": "code",
   "execution_count": 9,
   "metadata": {
    "collapsed": false,
    "deletable": true,
    "editable": true
   },
   "outputs": [
    {
     "name": "stdout",
     "output_type": "stream",
     "text": [
      "Testing with a random matrix that has size 100 x 100, after 10000 trials, test_c is True\n"
     ]
    }
   ],
   "source": [
    "def test_c(m, n, times):\n",
    "    value = True\n",
    "    while(value and times > 0):\n",
    "        x = rand(m, n)\n",
    "        value = norm(x, numpy.inf) <= n**0.5 * norm(x, 2)\n",
    "        times -=1\n",
    "    return value\n",
    "\n",
    "m, n, times = 100, 100, 10000\n",
    "print(\"Testing with a random matrix that has size {} x {}, after {} trials, test_c is {}\"\n",
    "      .format(m, n, times, test_c(m,n, times)))"
   ]
  },
  {
   "cell_type": "markdown",
   "metadata": {
    "deletable": true,
    "editable": true
   },
   "source": [
    "## d) $\\|A\\|_{2} \\leq \\sqrt m \\|A||_{\\infty}$"
   ]
  },
  {
   "cell_type": "code",
   "execution_count": 7,
   "metadata": {
    "collapsed": false,
    "deletable": true,
    "editable": true
   },
   "outputs": [
    {
     "name": "stdout",
     "output_type": "stream",
     "text": [
      "second_norm <= sqrt(4) * infinite_norm:\n",
      "2.53984870216 <= sqrt(4)*3.2231079571 is 6.44621591419\n",
      "Equation is True\n"
     ]
    }
   ],
   "source": [
    "x = rand(4, 5)\n",
    "infinite_norm = norm(x, numpy.inf)\n",
    "second_norm = norm(x, 2)\n",
    "print(\"second_norm <= sqrt(4) * infinite_norm:\\n{} <= sqrt(4)*{} is {}\\nEquation is {}\"\n",
    "      .format(second_norm, infinite_norm,\n",
    "              infinite_norm * 4**0.5,\n",
    "              second_norm <= infinite_norm * 5**0.5,))"
   ]
  },
  {
   "cell_type": "markdown",
   "metadata": {
    "deletable": true,
    "editable": true
   },
   "source": [
    "Just to be sure, do it more than once:"
   ]
  },
  {
   "cell_type": "code",
   "execution_count": 8,
   "metadata": {
    "collapsed": false,
    "deletable": true,
    "editable": true
   },
   "outputs": [
    {
     "name": "stdout",
     "output_type": "stream",
     "text": [
      "Testing with a random matrix that has size 100 x 100, after 10000 trials, test_d is True\n"
     ]
    }
   ],
   "source": [
    "def test_d(m, n, times):\n",
    "    value = True\n",
    "    while(value and times > 0):\n",
    "        x = rand(m, n)\n",
    "        value = norm(x, 2) <= m**0.5 * norm(x, numpy.inf)\n",
    "        times -=1\n",
    "    return value\n",
    "\n",
    "m, n, times = 100, 100, 10000\n",
    "print(\"Testing with a random matrix that has size {} x {}, after {} trials, test_d is {}\"\n",
    "      .format(m, n, times, test_d(m, n, times)))"
   ]
  }
 ],
 "metadata": {
  "kernelspec": {
   "display_name": "Python 2",
   "language": "python",
   "name": "python2"
  },
  "language_info": {
   "codemirror_mode": {
    "name": "ipython",
    "version": 2
   },
   "file_extension": ".py",
   "mimetype": "text/x-python",
   "name": "python",
   "nbconvert_exporter": "python",
   "pygments_lexer": "ipython2",
   "version": "2.7.12"
  }
 },
 "nbformat": 4,
 "nbformat_minor": 2
}
