{
 "cells": [
  {
   "cell_type": "markdown",
   "metadata": {},
   "source": [
    "# CMPE 482 Homework #2\n",
    "\n",
    "### Melih Değiş - 2016700033\n",
    "\n",
    "Solve the exercise 3.3 from Numerical Linear Algebra (LIoyd N. Trefethen and David Bau)\n"
   ]
  },
  {
   "cell_type": "markdown",
   "metadata": {},
   "source": [
    "### Exercise 3.3\n",
    "\n",
    "Vector and matrix p-norms are related by various inequalities, often involving the dimensions m or n. \n",
    "\n",
    "For each of the following, verify the inequality and give an example of a nonzero vector or matrix (for general m,n) for which equality is achieved. \n",
    "\n",
    "In this problem x is a *m*-vector and A is a *m × n* matrix."
   ]
  },
  {
   "cell_type": "markdown",
   "metadata": {},
   "source": [
    "## a) $\\|x\\|_\\infty \\leq \\|x\\|_{2}$"
   ]
  },
  {
   "cell_type": "markdown",
   "metadata": {},
   "source": [
    "Assume $\\vert x_{i_0} \\vert = max_{1 \\leq i \\leq m} \\vert x_i \\vert$. Then $\\|x\\|_\\infty = \\vert x_{i_0} \\vert \\leq \\sqrt{\\sum_{i=0}^{m}\\vert x_i \\vert^2} = \\|x\\|_2$ .\n",
    "\n",
    "For $x = \\alpha e_i (\\alpha \\in \\mathbb{C}, 1 \\leq i \\leq m)$, the equality holds."
   ]
  },
  {
   "cell_type": "markdown",
   "metadata": {},
   "source": [
    "To prove it programitcly first, let's create random vector $x$, then calculate and check $\\|x\\|_\\infty \\leq \\|x\\|_{2}$"
   ]
  },
  {
   "cell_type": "code",
   "execution_count": 28,
   "metadata": {
    "collapsed": false
   },
   "outputs": [
    {
     "name": "stdout",
     "output_type": "stream",
     "text": [
      "infinite norm: 0.877273618291\n",
      "second_norm: 1.33745852153\n"
     ]
    }
   ],
   "source": [
    "from numpy.random import rand\n",
    "from numpy.linalg import norm\n",
    "\n",
    "x = rand(5)\n",
    "infinite_norm = norm(x, numpy.inf)\n",
    "second_norm = norm(x, 2)\n",
    "print(\"infinite norm: {}\\nsecond_norm: {}\".format(infinite_norm, second_norm))"
   ]
  },
  {
   "cell_type": "markdown",
   "metadata": {},
   "source": [
    "Just to be sure, do it more than once:"
   ]
  },
  {
   "cell_type": "code",
   "execution_count": 30,
   "metadata": {
    "collapsed": false
   },
   "outputs": [
    {
     "name": "stdout",
     "output_type": "stream",
     "text": [
      "Testing with a random vector that has length 100, after 10000 times try, test_a is True\n"
     ]
    }
   ],
   "source": [
    "def test_a(vector_len, times):\n",
    "    value = True\n",
    "    while(value and times > 0):\n",
    "        x = rand(vector_len)\n",
    "        value = value and norm(x, numpy.inf) <= norm(x, 2)\n",
    "        times -=1\n",
    "    return value\n",
    "\n",
    "vector_len, times = 100, 10000\n",
    "print(\"Testing with a random vector that has length {}, after {} times try, test_a is {}\"\n",
    "      .format(vector_len, times, test_a(vector_len, times)))"
   ]
  },
  {
   "cell_type": "code",
   "execution_count": null,
   "metadata": {
    "collapsed": true
   },
   "outputs": [],
   "source": []
  }
 ],
 "metadata": {
  "kernelspec": {
   "display_name": "Python 2",
   "language": "python",
   "name": "python2"
  },
  "language_info": {
   "codemirror_mode": {
    "name": "ipython",
    "version": 2
   },
   "file_extension": ".py",
   "mimetype": "text/x-python",
   "name": "python",
   "nbconvert_exporter": "python",
   "pygments_lexer": "ipython2",
   "version": "2.7.12"
  }
 },
 "nbformat": 4,
 "nbformat_minor": 2
}
