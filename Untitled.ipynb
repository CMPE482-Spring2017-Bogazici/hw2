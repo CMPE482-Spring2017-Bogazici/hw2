{
 "cells": [
  {
   "cell_type": "markdown",
   "metadata": {},
   "source": [
    "# A\n",
    "\n",
    "$$ ||x||_{\\infty} = max(|x_i|) $$\n",
    "$$ ||x||^2 = \\left( \\sum\\limits_{i=1}^{m}{|x_i|^2} \\right) ^{1/2} = \\sqrt{max(x_i)*(max(x_i)+C)} = max(x_i)+C $$ \n",
    "so:\n",
    "$$ ||x||_{\\infty} <= ||x||^2 $$\n"
   ]
  },
  {
   "cell_type": "markdown",
   "metadata": {},
   "source": [
    "# B\n",
    "\n",
    "$$ ||x||^2 = \\left( \\sum\\limits_{i=1}^{m}{|x_i|^2} \\right) ^{1/2} $$\n",
    "if all values of x_i were to be the maximum then this would be:\n",
    "$$ \\sqrt{(max(x_i)*max(x_i)*m)} = max(x_i)*\\sqrt{m} $$\n",
    "this is equal to:\n",
    "$$||x||_{\\infty}  $$\n",
    "and this is the max value of 2-norm so:\n",
    "$$||x||^2 <= \\sqrt{m} ||x||_{\\infty} $$"
   ]
  },
  {
   "cell_type": "markdown",
   "metadata": {},
   "source": [
    "# C\n",
    "\n",
    "$$ ||A||_{\\infty} < \\sqrt{n} ||A||_2 $$\n",
    "by opening we have:\n",
    "$$ sup_{x!=0} \\frac{||Ax||_{\\infty}}{||x||_{\\infty}} <= \\sqrt{n} sup_{x!=0} \\frac{||Ax||_2}{||x||_2} $$\n",
    "here if this holds for every case, it holds for sup too, we reduce sup and try to prove:\n",
    "$$ \\frac{||Ax||_{\\infty}}{||x||_{\\infty}} <= \\sqrt{n} \\frac{||Ax||_2}{||x||_2} $$\n",
    "by rearranging the eq:\n",
    "$$ \\frac{||x||_2}{||x||_{\\infty}} <= \\sqrt{n} \\frac{||Ax||_2}{||Ax||_{\\infty}  } $$\n",
    "opening equations:\n",
    "$$ \\frac{\\sqrt{(\\sum_1^n{x_i^2})}}{max(x_i)} <=\\sqrt{n}\\frac{\\sqrt{(\\sum_1^n{(Ax)_i^2})}}{max((Ax)_i)} $$\n",
    "here we maximize left side by making all elements of $y_i$ equal to $x_i$, so left side becomes:\n",
    "$$ \\frac{\\sqrt{(n*max(x_i)^2)}}{max(x_i)} = \\sqrt{n} $$\n",
    "equation now becomes:\n",
    "$$ 1 <=\\frac{\\sqrt{(\\sum_1^n{(Ax)_i^2})}}{max((Ax)_i)} $$\n",
    "\n",
    "To make right side minimum we will have only one value equal to $max((Ax)_i)$, rest are zero, then right side becomes 1, so the equation holds:\n",
    "$$ 1<=1 $$\n",
    "\n",
    "if this holds for max value of left and min value of right, it holds for every value, and it holds for sup\n",
    "\n"
   ]
  },
  {
   "cell_type": "markdown",
   "metadata": {},
   "source": [
    "# D \n",
    "lets open them directly and reduce sups:\n",
    "\n",
    "$$  \\frac{||Ax||_2}{||x||_2}  <= \\sqrt{m}  \\frac{||Ax||_{\\infty}}{||x||_{\\infty}} $$\n",
    "\n",
    "by rearranging we have:\n",
    "\n",
    "$$  \\frac{||x||_{\\infty}}{||x||_2}  <= \\sqrt{m}  \\frac{||Ax||_{\\infty}}{||Ax||_2 } $$\n",
    "\n",
    "lets make right side minimum, by making all elements of (Ax) equal to its max:\n",
    "$$ \\frac{max((Ax)_i)}{\\sqrt{m*max((Ax)_i)^2}} $$\n",
    "\n",
    "so the right side has become:\n",
    "\n",
    "$$\\sqrt{m}* \\frac{max((Ax)_i)}{\\sqrt{m*max((Ax)_i)^2}} =1 $$\n",
    "\n",
    "now we need to show that:\n",
    "\n",
    "$$  \\frac{||x||_{\\infty}}{||x||_2}  <= 1 $$\n",
    "\n",
    "the largest possible value for left is when X vector has one value equal to max(X_i) and all the rest are at zero, and in that case left side becomes exactly one so the equation holds:\n",
    "\n",
    "$$1<=1$$\n",
    "\n",
    "if this holds for max value of left and min value of right, it holds for every value, and it holds for sup\n",
    "\n"
   ]
  },
  {
   "cell_type": "markdown",
   "metadata": {},
   "source": [
    "# A Example\n",
    "\n",
    "$ X=[[3],[2],[1]]$ \n"
   ]
  },
  {
   "cell_type": "markdown",
   "metadata": {},
   "source": [
    "# B Example\n",
    "\n",
    "$X=[[3],[2],[1]]$ \n",
    "\n"
   ]
  },
  {
   "cell_type": "markdown",
   "metadata": {},
   "source": [
    "# C Example\n",
    "\n",
    "$ A=[[3,3],[2,2],[1,1]]$ \n",
    "\n",
    "\n"
   ]
  },
  {
   "cell_type": "markdown",
   "metadata": {},
   "source": [
    "# D Example\n",
    "\n",
    "$ A=[[3,3],[2,2],[1,1]]$ \n",
    "\n",
    "\n",
    "\n"
   ]
  },
  {
   "cell_type": "markdown",
   "metadata": {},
   "source": [
    "It is proven that when these vector X and matrix A is used, the result will be right. There is no need to calculate it.(Of course proofs might not be true but still the values should be true assuming that the statements can be proven.)"
   ]
  },
  {
   "cell_type": "code",
   "execution_count": null,
   "metadata": {
    "collapsed": true
   },
   "outputs": [],
   "source": []
  }
 ],
 "metadata": {
  "kernelspec": {
   "display_name": "Python 2",
   "language": "python",
   "name": "python2"
  },
  "language_info": {
   "codemirror_mode": {
    "name": "ipython",
    "version": 2
   },
   "file_extension": ".py",
   "mimetype": "text/x-python",
   "name": "python",
   "nbconvert_exporter": "python",
   "pygments_lexer": "ipython2",
   "version": "2.7.13"
  }
 },
 "nbformat": 4,
 "nbformat_minor": 2
}
