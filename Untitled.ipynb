{
 "cells": [
  {
   "cell_type": "markdown",
   "metadata": {},
   "source": [
    "### (a) $ \\|x\\|_\\infty \\leq \\|x\\|_2 $\n",
    "Given $\\|x\\|_\\infty = \\displaystyle\\max_i{x_i}$ and $\\|x\\|_2 =\\sqrt{\\sum{{x_i}^2}}$,\n",
    "\n",
    "\\begin{align}\n",
    "    \\max_i{x_i} &\\leq \\sqrt{\\sum{{x_i}^2}} \\\\\n",
    "    \\left(\\max_i{x_i}\\right)^2 &\\leq \\left(\\sqrt{\\sum{{x_i}^2}} \\right)^2 \\\\\n",
    "    {\\max_i{x_i}}^2 &\\leq \\sum{{x_i}^2}    \\\\\n",
    "\\end{align}\n",
    "\n",
    "Since right side of the inequality also contains the maximum, and possibly other values, it is greater than or equal to the left side. This means above inequality is true. \n",
    "\n",
    "An example vector for which equality is achieved is:\n",
    "\n",
    "\\begin{bmatrix}\n",
    "2 & 0 & 0\\\\\n",
    "\\end{bmatrix}\n",
    "\n",
    "### (b) $ \\|x\\|_2 \\leq \\sqrt{m} \\|x\\|_\\infty $\n",
    "Again, given $\\|x\\|_\\infty = \\displaystyle\\max_i{x_i}$ and $\\|x\\|_2 =\\sqrt{\\sum{{x_i}^2}}$,\n",
    "\n",
    "\\begin{align}\n",
    "    \\sqrt{\\sum{{x_i}^2}} &\\leq \\sqrt{m} \\max_i{x_i}  \\\\\n",
    "    \\left( \\sqrt{\\sum{{x_i}^2}} \\right)^2 &\\leq \\left( \\sqrt{m} \\max_i{x_i} \\right)^2 \\\\\n",
    "    \\sum{{x_i}^2} &\\leq m \\cdot {\\max_i{x_i}}^2             \\\\\n",
    " \\end{align}   \n",
    "\n",
    "Left side of the inequality contains sum of squared values of m numbers, right side of the inequality contains m times square of the maximum of those m numbers. Left side of the inequality is less than the right side except when the vector's all elements have the same value, and in that case they are equal. This means above inequality is true.\n",
    "\n",
    "An example vector for which equality is achieved is:\n",
    "\n",
    "\\begin{bmatrix}\n",
    "2 & 2 & 2\\\\\n",
    "\\end{bmatrix}\n",
    "\n",
    "### (c) $ \\|A\\|_\\infty \\leq \\sqrt{n} \\|A\\|_2 $\n",
    "### (d) $ \\|A\\|_2 \\leq \\sqrt{m} \\|A\\|_\\infty $"
   ]
  },
  {
   "cell_type": "code",
   "execution_count": null,
   "metadata": {
    "collapsed": true
   },
   "outputs": [],
   "source": []
  },
  {
   "cell_type": "code",
   "execution_count": null,
   "metadata": {
    "collapsed": true
   },
   "outputs": [],
   "source": []
  }
 ],
 "metadata": {
  "kernelspec": {
   "display_name": "Octave",
   "language": "octave",
   "name": "octave"
  },
  "language_info": {
   "file_extension": ".m",
   "help_links": [
    {
     "text": "GNU Octave",
     "url": "https://www.gnu.org/software/octave/support.html"
    },
    {
     "text": "Octave Kernel",
     "url": "https://github.com/Calysto/octave_kernel"
    },
    {
     "text": "MetaKernel Magics",
     "url": "https://github.com/calysto/metakernel/blob/master/metakernel/magics/README.md"
    }
   ],
   "mimetype": "text/x-octave",
   "name": "octave",
   "version": "4.2.0"
  }
 },
 "nbformat": 4,
 "nbformat_minor": 2
}
