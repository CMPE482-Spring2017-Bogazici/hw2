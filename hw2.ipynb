{
 "cells": [
  {
   "cell_type": "markdown",
   "metadata": {},
   "source": [
    "Question: Vector and matrix $p$-norms are related by various inequalities, often involving the dimensions $m$ or $n$. For each of the following, verify the inequality and give an example of a nonzero vector or matrix (for general $m$,$n$) for which equality is achieved. In this problem $x$ is a $m$-vector and $A$ is a $m$ × $n$ matrix."
   ]
  },
  {
   "cell_type": "markdown",
   "metadata": {},
   "source": [
    "a. $\\|x\\|_{\\infty} \\leq \\|x\\|_{2}$"
   ]
  },
  {
   "cell_type": "markdown",
   "metadata": {},
   "source": [
    "By definition, $$\\|x\\|_{\\infty} = max_{1 \\leq i \\leq m} |x_i|$$"
   ]
  },
  {
   "cell_type": "markdown",
   "metadata": {},
   "source": [
    "$$ = \\sqrt{(max_{1 \\leq i \\leq m} |x_{i}|)^2}$$"
   ]
  },
  {
   "cell_type": "markdown",
   "metadata": {},
   "source": [
    "$$ \\leq \\sqrt{\\sum_{i=1}^m |x_{i}|^2}  $$ which can be easily derived using $ \\quad |a|^2 \\geq 0 \\quad \\forall a \\in \\Re $"
   ]
  },
  {
   "cell_type": "markdown",
   "metadata": {},
   "source": [
    "$$ = \\|x\\|_2 $$ by definition"
   ]
  },
  {
   "cell_type": "markdown",
   "metadata": {},
   "source": [
    "$\\|x\\|_{\\infty} = \\|x\\|_{2}$ can be achieved with a vector with all zero values except one value of 1 (or similarly -1), i.e $ \\exists! 1 \\leq i \\leq m \\quad x_i = 1, \\quad \\forall 1 \\leq j \\leq m, j \\neq i, \\quad x_j = 0  $"
   ]
  },
  {
   "cell_type": "markdown",
   "metadata": {},
   "source": [
    "b. $ \\|x\\|_{2} \\leq \\sqrt{m} \\|x\\|_{\\infty}$"
   ]
  },
  {
   "cell_type": "markdown",
   "metadata": {},
   "source": [
    "By definition $$ \\|x\\|_2 = \\sqrt{\\sum_{i=1}^m |x_{i}|^2} $$"
   ]
  },
  {
   "cell_type": "markdown",
   "metadata": {},
   "source": [
    "$$ \\leq \\sqrt{\\sum_{i=1}^m (max_{1 \\leq i \\leq m} |x_{i}|)^2} $$ since $ \\forall x_i \\quad x_{i}^2 \\leq (max_{1  \\leq i \\leq m} |x_{i}|)^2 $"
   ]
  },
  {
   "cell_type": "markdown",
   "metadata": {},
   "source": [
    "$$ = \\sqrt{m (max_{1 \\leq i \\leq m} |x_{i}|)^2} $$"
   ]
  },
  {
   "cell_type": "markdown",
   "metadata": {},
   "source": [
    "$$ = \\sqrt{m} (max_{1 \\leq i \\leq m} |x_{i}|) $$"
   ]
  },
  {
   "cell_type": "markdown",
   "metadata": {},
   "source": [
    "$$ = \\sqrt{m} \\|x\\|_{\\infty} $$ by definition"
   ]
  },
  {
   "cell_type": "markdown",
   "metadata": {},
   "source": [
    "$ \\|x\\|_{2} = \\sqrt{m} \\|x\\|_{\\infty}$ can be achieved if $ \\sqrt{\\sum_{i=1}^m |x_{i}|^2} = \\sqrt{\\sum_{i=1}^m (max_{1 \\leq i \\leq m} |x_{i}|)^2}$ which is true when $\\forall x_i, x_j, \\quad x_i = x_j$"
   ]
  },
  {
   "cell_type": "markdown",
   "metadata": {},
   "source": [
    "c. $\\|A\\|_{\\infty} \\leq \\sqrt{n}\\|A\\|_{2}$"
   ]
  },
  {
   "cell_type": "markdown",
   "metadata": {},
   "source": [
    "By definition, $$ \\|A\\|_{\\infty} = sup_{\\|x\\| \\neq 0}{\\frac{\\|Ax\\|_\\infty}{\\|x\\|_\\infty}} $$"
   ]
  },
  {
   "cell_type": "markdown",
   "metadata": {},
   "source": [
    "As we already showed in (a) that $ \\|Ax\\|_\\infty \\leq \\|Ax\\|_2 $, $$ \\leq sup_{\\|x\\| \\neq 0}{\\frac{\\|Ax\\|_2}{\\|x\\|_\\infty}} $$"
   ]
  },
  {
   "cell_type": "markdown",
   "metadata": {},
   "source": [
    "Using $ \\frac{1}{\\|x\\|_\\infty} \\leq \\frac{\\sqrt{n}}{\\|x\\|_2} $ from (b), $$ \\leq sup_{\\|x\\| \\neq 0}{\\frac{\\|Ax\\|_2}{{\\|x\\|_2}/{\\sqrt{n}}}} $$"
   ]
  },
  {
   "cell_type": "markdown",
   "metadata": {},
   "source": [
    "$$ = \\sqrt{n} \\cdot sup_{\\|x\\| \\neq 0}{\\frac{\\|Ax\\|_2}{{\\|x\\|_2}}} $$"
   ]
  },
  {
   "cell_type": "markdown",
   "metadata": {},
   "source": [
    "$$ = \\sqrt{n} \\cdot \\|Ax\\|_2 $$"
   ]
  },
  {
   "cell_type": "markdown",
   "metadata": {},
   "source": [
    "We know that $ \\|A\\|_\\infty $ gives us the maximum row sum and $ \\|A\\|_2 $ gives the square root of the trace of $ A^* A $"
   ]
  },
  {
   "cell_type": "markdown",
   "metadata": {},
   "source": [
    "To have $\\|A\\|_\\infty = \\sqrt{n} \\|A\\|_2$, let A be a matrix with zero entries except ones in the first row. Using above information, clearly $\\|A\\|_\\infty = n $ and $ \\|A\\|_2 = \\sqrt{n} $ since $A^* A$ gives a matrix with all entries are $1$. "
   ]
  },
  {
   "cell_type": "markdown",
   "metadata": {},
   "source": [
    "d. $\\|A\\|_{2} \\leq \\sqrt{m}\\|A\\|_{\\infty}$"
   ]
  },
  {
   "cell_type": "markdown",
   "metadata": {},
   "source": [
    "In a similar fashion with (c),"
   ]
  },
  {
   "cell_type": "markdown",
   "metadata": {},
   "source": [
    "By definition, $$ \\|A\\|_2 = sup_{\\|x\\| \\neq 0}{\\frac{\\|Ax\\|_2}{\\|x\\|_2}} $$"
   ]
  },
  {
   "cell_type": "markdown",
   "metadata": {},
   "source": [
    "Using $ \\|Ax\\|_2 \\leq \\|Ax\\|_\\infty\\sqrt{m} $ from (b), $$ \\leq sup_{\\|x\\| \\neq 0}{\\frac{\\sqrt{m} \\|Ax\\|_\\infty}{\\|x\\|_2}} $$"
   ]
  },
  {
   "cell_type": "markdown",
   "metadata": {},
   "source": [
    "As we already showed in (a) that $ \\frac{1}{\\|x\\|_2} \\leq \\frac{1}{\\|x\\|_\\infty} $, $$ \\leq sup_{\\|x\\| \\neq 0}{\\frac{\\sqrt{m} \\|Ax\\|_\\infty}{\\|x\\|_\\infty}} $$"
   ]
  },
  {
   "cell_type": "markdown",
   "metadata": {},
   "source": [
    "$$ = \\sqrt{m} \\cdot sup_{\\|x\\| \\neq 0}{\\frac{\\|Ax\\|_\\infty}{{\\|x\\|_\\infty}}} $$"
   ]
  },
  {
   "cell_type": "markdown",
   "metadata": {},
   "source": [
    "$$ = \\sqrt{m} \\cdot \\|Ax\\|_\\infty $$"
   ]
  },
  {
   "cell_type": "markdown",
   "metadata": {},
   "source": [
    "To easily reference, we repeat that $ \\|A\\|_\\infty $ gives us the maximum row sum and $ \\|A\\|_2 $ gives the square root of the trace of $ A^* A $"
   ]
  },
  {
   "cell_type": "markdown",
   "metadata": {},
   "source": [
    "To have $\\|A\\|_2 = \\sqrt{m} \\|A\\|_\\infty$, let A be a matrix with zero entries except ones in the first column. Using above information, clearly $\\|A\\|_\\infty = 1 $ and $ \\|A\\|_2 = \\sqrt{m} $ since $A^* A$ gives a matrix with all entries are $0$ except entry at $1$ x $1$ which is $m$. "
   ]
  }
 ],
 "metadata": {
  "celltoolbar": "Edit Metadata",
  "kernelspec": {
   "display_name": "Python 3",
   "language": "python",
   "name": "python3"
  },
  "language_info": {
   "codemirror_mode": {
    "name": "ipython",
    "version": 3
   },
   "file_extension": ".py",
   "mimetype": "text/x-python",
   "name": "python",
   "nbconvert_exporter": "python",
   "pygments_lexer": "ipython3",
   "version": "3.6.0"
  }
 },
 "nbformat": 4,
 "nbformat_minor": 2
}
