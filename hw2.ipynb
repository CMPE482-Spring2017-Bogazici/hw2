{
 "cells": [
  {
   "cell_type": "markdown",
   "metadata": {},
   "source": [
    "# Homework 2"
   ]
  },
  {
   "cell_type": "markdown",
   "metadata": {},
   "source": [
    "(a)\n",
    "$$ \\|x\\|_\\infty \\leq \\|x\\|_2 \\\\ $$"
   ]
  },
  {
   "cell_type": "markdown",
   "metadata": {},
   "source": [
    "solution of (a)\n",
    "$$\n",
    "\\|x\\|_\\infty = \\max{{\\|x_i\\|}} = \\sqrt{(\\max{{\\|x_i\\|}})^2} \\leq \n",
    "\\sqrt{(\\sum^m_{i=1}{|x_i|)^2}}\n",
    "= \\|x\\|_2 \\\\ $$"
   ]
  },
  {
   "cell_type": "markdown",
   "metadata": {},
   "source": [
    "(b)\n",
    "$$ \\|x\\|_2 \\leq \\sqrt{m}\\|x\\|_\\infty \\\\ $$"
   ]
  },
  {
   "cell_type": "markdown",
   "metadata": {},
   "source": [
    "solution of (b)\n",
    "$$\n",
    "\\|x\\|_2 =\n",
    "\\sqrt{(\\sum^m_{i=1}{|x_i|)^2}}\n",
    "\\leq  \\sqrt{m(\\max{{\\|x_i\\|}})^2} = \\max{{\\|x_i\\|}} \n",
    "= \\|x\\|_2 \n",
    "\\\\ \n",
    "$$"
   ]
  },
  {
   "cell_type": "markdown",
   "metadata": {},
   "source": [
    "(c)\n",
    "$$ \\|A|\\|_\\infty \\leq \\sqrt{n}\\|A\\|_2 \\\\ $$"
   ]
  },
  {
   "cell_type": "markdown",
   "metadata": {},
   "source": [
    "solution of (c)$$\\\\$$\n",
    "By using both Part (a) and (b), one in numerator, another in denominator, we get:\n",
    "$$\n",
    "\\|A|\\|_\\infty = \\sup{\\frac{\\|Ax\\|_\\infty}{\\|x\\|_\\infty}} \n",
    "\\leq \\sup{\\frac{\\|Ax\\|_2}{\\|x\\|_\\infty}}\n",
    "\\leq \\sup{\\frac{\\|Ax\\|_2 \\sqrt{n}}{\\|x\\|_2}}\n",
    "= \\sqrt{n}\\|A\\|_\\infty $$"
   ]
  },
  {
   "cell_type": "markdown",
   "metadata": {},
   "source": [
    "(d)\n",
    "$$ \\|A|\\|_2 \\leq \\sqrt{m}\\|A\\|_\\infty \\\\ $$"
   ]
  },
  {
   "cell_type": "markdown",
   "metadata": {},
   "source": [
    "solution of (d)$$\\\\$$\n",
    "By using both Part (a) and (b), one in numerator, another in denominator, we get:\n",
    "$$\n",
    "\\|A|\\|_2 = \\sup{\\frac{\\|Ax\\|_2}{\\|x\\|_2}} \\leq \\sup{\\frac{\\sqrt{m}\\|Ax\\|_\\infty}{\\|x\\|_2}}\n",
    " = \\sqrt{m}\\|A\\|_\\infty $$"
   ]
  },
  {
   "cell_type": "code",
   "execution_count": null,
   "metadata": {
    "collapsed": true
   },
   "outputs": [],
   "source": []
  }
 ],
 "metadata": {
  "anaconda-cloud": {},
  "kernelspec": {
   "display_name": "Octave",
   "language": "octave",
   "name": "octave"
  },
  "language_info": {
   "file_extension": ".m",
   "help_links": [
    {
     "text": "GNU Octave",
     "url": "https://www.gnu.org/software/octave/support.html"
    },
    {
     "text": "Octave Kernel",
     "url": "https://github.com/Calysto/octave_kernel"
    },
    {
     "text": "MetaKernel Magics",
     "url": "https://github.com/calysto/metakernel/blob/master/metakernel/magics/README.md"
    }
   ],
   "mimetype": "text/x-octave",
   "name": "octave",
   "version": "4.0.0"
  }
 },
 "nbformat": 4,
 "nbformat_minor": 2
}
