{
 "cells": [
  {
   "cell_type": "markdown",
   "metadata": {},
   "source": [
    "# HW2: Exercise 3.3\n",
    "### Seleme Topuz - 2012400111"
   ]
  },
  {
   "cell_type": "markdown",
   "metadata": {},
   "source": [
    "###### 3.3.a)\n",
    "$\\begin{eqnarray}\n",
    "||x||_\\infty = \\max{|x_i|}\n",
    "\\\\\n",
    "||x||_2 = \\sqrt{\\sum_{i=1}^m{|{x_i}^2|}}\n",
    "\\end{eqnarray}$  \n",
    "Maximum of positive numbers is smaller or equal than sum of those positive numbers.  \n",
    "$\\begin{eqnarray}\n",
    "||x||_\\infty = \\sqrt{\\max{|x_i|^2}} \\leq \\sqrt{\\sum_{i=1}^m{|{x_i}^2|}} = ||x||_2\n",
    "\\end{eqnarray}$  \n",
    "For maximum of positive numbers to be equal to sum of those, we can give a row vector whose one entry is 1, others are 0:  \n",
    "$\\begin{eqnarray}\n",
    "x = [1,0,0,...,0], \n",
    "||x||_\\infty = 1, \n",
    "||x||_2 = 1\n",
    "\\end{eqnarray}$"
   ]
  },
  {
   "cell_type": "markdown",
   "metadata": {},
   "source": [
    "###### 3.3.b)\n",
    "$\\begin{eqnarray}\n",
    "||x||_2 = \\sqrt{\\sum_{i=1}^m{|{x_i}^2|}}\n",
    "\\end{eqnarray}$  \n",
    "Sum of positive numbers is smaller or equal than maximum of those numbers multiplied the count of them.  \n",
    "$\\begin{eqnarray}\n",
    "\\sqrt{\\sum_{i=1}^m{|{x_i}^2|}} \\leq \\sqrt{m \\max{|x_i|^2}} = \\sqrt{m} \\sqrt{\\max{|x_i|^2}} = \\sqrt{m} ||x||_\\infty\n",
    "\\end{eqnarray}$  \n",
    "If the vector contains same number, they will all be maximum, so equality happens.\n",
    "$\\begin{eqnarray}\n",
    "x = [1,1,1,...,1] \\end{eqnarray}$ with size m."
   ]
  }
 ],
 "metadata": {
  "kernelspec": {
   "display_name": "Octave",
   "language": "octave",
   "name": "octave"
  },
  "language_info": {
   "file_extension": ".m",
   "help_links": [
    {
     "text": "GNU Octave",
     "url": "https://www.gnu.org/software/octave/support.html"
    },
    {
     "text": "Octave Kernel",
     "url": "https://github.com/Calysto/octave_kernel"
    },
    {
     "text": "MetaKernel Magics",
     "url": "https://github.com/calysto/metakernel/blob/master/metakernel/magics/README.md"
    }
   ],
   "mimetype": "text/x-octave",
   "name": "octave",
   "version": "4.2.0"
  }
 },
 "nbformat": 4,
 "nbformat_minor": 2
}
