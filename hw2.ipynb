{
 "cells": [
  {
   "cell_type": "markdown",
   "metadata": {},
   "source": [
    "## Homework 2"
   ]
  },
  {
   "cell_type": "markdown",
   "metadata": {},
   "source": [
    "### Exercise 3.3"
   ]
  },
  {
   "cell_type": "markdown",
   "metadata": {},
   "source": [
    "#### a.  \n",
    "\n",
    "\\begin{eqnarray}\n",
    "    & \\lVert \\mathbf{x} \\rVert_{\\infty} & \\leq \\lVert \\mathbf{x} \\rVert_{2} \\\\\n",
    "    & \\lVert \\mathbf{x} \\rVert_{\\infty} & = \\max_{1 \\leq i \\leq m} \\left| x_i \\right| \\\\\n",
    "    & \\lVert \\mathbf{x} \\rVert_{2} & = \\left( \\left| x_1 \\right|^2 + \\left| x_2 \\right|^2 \n",
    "    + \\dots \\left| x_k \\right|^2 \\dots + \\left| x_m \\right|^2 \\right)^{\\frac{1}{2}}\n",
    "\\end{eqnarray}  \n",
    "Let us say that $x_k$ is the $\\max_{1 \\leq i \\leq m} \\left| x \\right|$. Since $\\lVert \\mathbf{x} \\rVert_{\\infty} = \\left( \\left| x_k \\right|^2 \\right)^\\frac{1}{2} \\leq \\left( \\left| x_1 \\right|^2 + \\left| x_2 \\right|^2 + \\dots \\left| x_k \\right|^2 \\dots + \\left| x_m \\right|^2 \\right)^{\\frac{1}{2}}$, $\\lVert \\mathbf{x} \\rVert_{\\infty} \\leq \\lVert \\mathbf{x} \\rVert_{2}$ is true."
   ]
  },
  {
   "cell_type": "markdown",
   "metadata": {},
   "source": [
    "#### b.  \n",
    "\n",
    "\\begin{eqnarray}\n",
    "    \\lVert \\mathbf{x} \\rVert_{2} & \\leq & \\sqrt{m} \\lVert \\mathbf{x} \\rVert_{\\infty} \\\\\n",
    "    \\left( \\left| x_1 \\right|^2 + \\left| x_2 \\right|^2 \n",
    "    + \\dots \\left| x_k \\right|^2 \\dots + \\left| x_m \\right|^2 \\right)^{\\frac{1}{2}} & \\leq & \\left( \\left| x_k \\right|^2 + \\left| x_k \\right|^2 \n",
    "    + \\dots \\left| x_k \\right|^2 \\dots + \\left| x_k \\right|^2 \\right)^{\\frac{1}{2}} \\\\\n",
    "    \\left( \\left| x_1 \\right|^2 + \\left| x_2 \\right|^2 \n",
    "    + \\dots \\left| x_k \\right|^2 \\dots + \\left| x_m \\right|^2 \\right)^{\\frac{1}{2}} & \\leq & \\left( m \\left| x_k \\right|^2 \\right)^{\\frac{1}{2}}\\\\\n",
    "    \\left( \\left| x_1 \\right|^2 + \\left| x_2 \\right|^2 \n",
    "    + \\dots \\left| x_k \\right|^2 \\dots + \\left| x_m \\right|^2 \\right)^{\\frac{1}{2}} & \\leq & \\sqrt{m} \\left| x_k \\right|\n",
    "\\end{eqnarray}\n",
    "\n",
    "Therefore, $\\lVert \\mathbf{x} \\rVert_{2} \\leq \\sqrt{m} \\lVert \\mathbf{x} \\rVert_{\\infty}$ is true.\n"
   ]
  },
  {
   "cell_type": "markdown",
   "metadata": {},
   "source": [
    "#### c.  \n",
    "\n"
   ]
  },
  {
   "cell_type": "markdown",
   "metadata": {},
   "source": [
    "#### d.   \n",
    "Let us assume $\\mathbf{x}$ is the vector that satisfies $\\sup_{\\|\\mathbf{x}\\|_2 = 1} {\\|A \\mathbf{x}\\|_2} = \\|A \\mathbf{x}\\|_2$. Call $\\mathbf{b} = A\\mathbf{x}$. So in another sense $\\|A\\|_2 = \\|\\mathbf{b}\\|_2$.  \n",
    "\n",
    "\\begin{eqnarray}\n",
    "    \\left( \\left| b_1 \\right|^2 + \\left| b_2 \\right|^2 + \\dots + \\left| b_m \\right|^2 \\right)^\\frac{1}{2} & \\leq & \\left( \\left| b_k \\right|^2 + \\left| b_k \\right|^2 + \\dots + \\left| b_k \\right|^2 \\right)^\\frac{1}{2}\\\\  \n",
    "    \\left( \\left| b_1 \\right|^2 + \\left| b_2 \\right|^2 + \\dots + \\left| b_m \\right|^2 \\right)^\\frac{1}{2} & \\leq & \\sqrt{m}\\left| b_k \\right|\n",
    "\\end{eqnarray}\n",
    "\n",
    "where $b_k$ is the $\\max_{1 \\leq i \\leq m}\\left| b_i \\right|$. Right side of the equation may not be exactly $\\|A\\|_\\infty$ but we know for sure that $b_k \\leq \\|A\\|_\\infty$. Therefore $\\|A\\|_2 \\leq \\sqrt{m} \\|A\\|_\\infty$."
   ]
  }
 ],
 "metadata": {
  "kernelspec": {
   "display_name": "Octave",
   "language": "octave",
   "name": "octave"
  },
  "language_info": {
   "file_extension": ".m",
   "help_links": [
    {
     "text": "GNU Octave",
     "url": "https://www.gnu.org/software/octave/support.html"
    },
    {
     "text": "Octave Kernel",
     "url": "https://github.com/Calysto/octave_kernel"
    },
    {
     "text": "MetaKernel Magics",
     "url": "https://github.com/calysto/metakernel/blob/master/metakernel/magics/README.md"
    }
   ],
   "mimetype": "text/x-octave",
   "name": "octave",
   "version": "4.2.0"
  }
 },
 "nbformat": 4,
 "nbformat_minor": 2
}
