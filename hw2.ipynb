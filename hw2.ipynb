{
 "cells": [
  {
   "cell_type": "markdown",
   "metadata": {
    "collapsed": true
   },
   "source": [
    "# Homework 2 "
   ]
  },
  {
   "cell_type": "markdown",
   "metadata": {},
   "source": [
    "### ARDA AKDEMİR\n",
    "### 2012400126"
   ]
  },
  {
   "cell_type": "code",
   "execution_count": null,
   "metadata": {
    "collapsed": true
   },
   "outputs": [],
   "source": []
  },
  {
   "cell_type": "markdown",
   "metadata": {},
   "source": [
    "## a)   \n",
    "$ $\\|x\\|$_{\\infty} =max\\{x_{1},x_{2},...,x_{m}\\}$ \n",
    "$ $\\|x\\|$_{\\infty} = \\sqrt{(max\\{x_{1},x_{2},...,x_{m}\\})^2}$ \n",
    "Since $ $\\|x\\|$_{2} = \\sqrt{x_{1}^2+x_{2}^2+...+x_{m}^2}$ They are equal if only one entry is non-zero. In other cases it is clear that $ $\\|x\\|$_{\\infty}<  $\\|x\\|$_{2} $\n"
   ]
  },
  {
   "cell_type": "markdown",
   "metadata": {},
   "source": [
    "Example: $ x = [3,0,1]$  then $ $\\|x\\|$_{\\infty} = 3$ and  $ $\\|x\\|$_{2} = \\sqrt{10} $\n"
   ]
  },
  {
   "cell_type": "markdown",
   "metadata": {},
   "source": [
    "## b) \n",
    "In the extreme case where all entries are equal to each other $ $\\|x\\|$_{2} =\\sqrt{m . x_{1}^2}$ which is equal to $\\sqrt{m}.max\\{x_{1},x_{2},...,x_{m}\\}$\n",
    "\n",
    "Thus making $ \\sqrt{m} . $\\|x\\|$_{\\infty}= $\\|x\\|$_{2} $\n",
    "\n",
    "In all other cases it is clear that it will be greater than $  $\\|x\\|$_{2} $"
   ]
  },
  {
   "cell_type": "markdown",
   "metadata": {},
   "source": [
    " Example: $ x = [3,0,1]$  then $ \\sqrt{3}.$\\|x\\|$_{\\infty} = 3.\\sqrt{3}$ and  $ $\\|x\\|$_{2} = \\sqrt{10} $\n"
   ]
  },
  {
   "cell_type": "markdown",
   "metadata": {},
   "source": [
    "$3.\\sqrt{3}=5.19 > \\sqrt{10}$"
   ]
  },
  {
   "cell_type": "markdown",
   "metadata": {},
   "source": [
    "y is a vector of length n. Multiply both sides with y so we have m vectors.\n",
    "$\\|Ay\\|_{\\infty} \\leq \\|Ay\\|_2 $ \n",
    " $\\|y\\|_2 \\leq \\sqrt{n} \\|y\\|_{\\infty} $ \n",
    " Then we achieve the equation: $ \\|Ay\\|_{\\infty} \\mathbin{/} \\|y\\|_{\\infty} \\leq \\sqrt{n} . $\\|Ay\\|_2 $\\mathbin{/} \\|y\\|_2 $"
   ]
  },
  {
   "cell_type": "code",
   "execution_count": null,
   "metadata": {
    "collapsed": true
   },
   "outputs": [],
   "source": []
  }
 ],
 "metadata": {
  "kernelspec": {
   "display_name": "Octave",
   "language": "octave",
   "name": "octave"
  },
  "language_info": {
   "file_extension": ".m",
   "help_links": [
    {
     "text": "GNU Octave",
     "url": "https://www.gnu.org/software/octave/support.html"
    },
    {
     "text": "Octave Kernel",
     "url": "https://github.com/Calysto/octave_kernel"
    },
    {
     "text": "MetaKernel Magics",
     "url": "https://github.com/calysto/metakernel/blob/master/metakernel/magics/README.md"
    }
   ],
   "mimetype": "text/x-octave",
   "name": "octave",
   "version": "4.0.0"
  }
 },
 "nbformat": 4,
 "nbformat_minor": 2
}
