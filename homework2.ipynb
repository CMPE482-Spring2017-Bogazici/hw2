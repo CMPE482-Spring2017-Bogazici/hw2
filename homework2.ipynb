{
 "cells": [
  {
   "cell_type": "markdown",
   "metadata": {},
   "source": [
    "# Homework 2 \n",
    "## Exercise 3.3\n",
    " \n",
    " Mustafa Haluk AYDIN\n",
    " \n",
    " 2011400327"
   ]
  },
  {
   "cell_type": "markdown",
   "metadata": {},
   "source": [
    "\\begin{eqnarray}\n",
    "\\|x\\|_\\infty & = &  \\max\\{\\left|x_1\\right|,\\left|x_2\\right|,\\dots,\\left|x_M\\right|\\}\n",
    "\\end{eqnarray}\n",
    "\n",
    "\\begin{eqnarray}\n",
    "\\|x\\|_2 & = & \\left(x_1^2 + x_2^2 + \\dots + x_M^2\\right)^{\\frac{1}{2}}\n",
    "\\end{eqnarray}"
   ]
  },
  {
   "cell_type": "markdown",
   "metadata": {},
   "source": [
    "### a)  \\begin{eqnarray} \\|x\\|_\\infty & \\leq &  \\|x\\|_2 \\end{eqnarray}\n",
    "\n",
    "\\begin{eqnarray} Assume &&\n",
    "\\left|x_i\\right| & = &  \n",
    "\\max\\{\\left|x_1\\right|,\\left|x_2\\right|,\\dots,\\left|x_M\\right|\\} & where & i & is & 1 \\leq i \\leq M\n",
    "\\end{eqnarray}\n",
    "\\begin{eqnarray}\n",
    "\\left|x_i\\right|^2 & \\leq &  \n",
    "\\left(x_1^2 + x_2^2 + \\dots + x_M^2\\right)\n",
    "&&then&&\n",
    "\\left|x_i\\right| & \\leq &  \n",
    "\\left(x_1^2 + x_2^2 + \\dots + x_M^2\\right)^{\\frac{1}{2}}\n",
    "\\end{eqnarray}\n",
    "\\begin{eqnarray} \n",
    "\\|x\\|_\\infty & = &  \n",
    "\\left|x_i\\right| & \\leq &  \n",
    "\\left(x_1^2 + x_2^2 + \\dots + x_M^2\\right)^{\\frac{1}{2}} =\n",
    "\\|x\\|_2 \\end{eqnarray}\n",
    "\\begin{eqnarray}\n",
    "For&&vector&x &equals &[ 1, 0, ......, 0 ]&equality&is&achieved\n",
    "\\end{eqnarray}\n"
   ]
  },
  {
   "cell_type": "markdown",
   "metadata": {},
   "source": [
    "### b)  \\begin{eqnarray} \\|x\\|_2 & \\leq &  \\sqrt{m}\\|x\\|_\\infty \\end{eqnarray}\n",
    "\n",
    "\\begin{eqnarray} Assume &&\n",
    "\\left|x_i\\right| & = &  \n",
    "\\max\\{\\left|x_1\\right|,\\left|x_2\\right|,\\dots,\\left|x_M\\right|\\} & where & i & is & 1 \\leq i \\leq M\n",
    "\\end{eqnarray}\n",
    "\\begin{eqnarray}\n",
    "\\|x\\|_2 & = & \\left(x_1^2 + x_2^2 + \\dots + x_M^2\\right)^{\\frac{1}{2}} \\leq \n",
    "\\left(x_i^2 + x_i^2 + \\dots + x_i^2\\right)^{\\frac{1}{2}}  = &  \n",
    "\\left(m \\times x_i^2\\right)^{\\frac{1}{2}} = &  \\sqrt{m}\\|x\\|_\\infty\n",
    "\\end{eqnarray}\n",
    "\\begin{eqnarray}\n",
    "For&&vector&x &equals &[ 1, 1, ......, 1 ]&equality&is&achieved\n",
    "\\end{eqnarray}"
   ]
  },
  {
   "cell_type": "markdown",
   "metadata": {},
   "source": [
    "### c)  \\begin{eqnarray} \\|A\\|_\\infty & \\leq &  \\sqrt{n}\\|A\\|_2 \\end{eqnarray}\n",
    "\n",
    "\\begin{eqnarray}\n",
    "\\|A\\|_{\\infty} = \n",
    "\\sup_{y \\neq 0} \\frac{\\|A y\\|_{(\\infty)}}{\\|y\\|_{(\\infty)}} \\leq \n",
    "\\sup_{y \\neq 0} \\frac{\\|A y\\|_{(2)}}{\\|y\\|_{(\\infty)}} \\leq \n",
    "\\sup_{y \\neq 0} \\frac{\\|A y\\|_{(2)}}{\\|y\\|_{(2)} \\over \\sqrt n} = \n",
    "\\sqrt{n}\\|A\\|_2\n",
    "&&& (&using&a&and&b&above)&(&where&y&is&n-dimesional&vector)\\end{eqnarray}"
   ]
  },
  {
   "cell_type": "markdown",
   "metadata": {},
   "source": [
    "### d)  \\begin{eqnarray} \\|A\\|_2 & \\leq &  \\sqrt{m}\\|A\\|_\\infty \\end{eqnarray}\n",
    "\n",
    "\\begin{eqnarray}\n",
    "\\|A\\|_{2} = \n",
    "\\sup_{y \\neq 0} \\frac{\\|A y\\|_{(2)}}{\\|y\\|_{(2)}} \\leq \n",
    "\\sup_{y \\neq 0} \\frac{\\|A y\\|_{(\\infty)} \\times \\sqrt m }{\\|y\\|_{(2)}} \\leq \n",
    "\\sup_{y \\neq 0} \\frac{\\|A y\\|_{(\\infty)} \\times \\sqrt m }{\\|y\\|_{(\\infty)}} = \n",
    "\\sqrt{m}\\|A\\|_\\infty\n",
    "&&& (&using&a&and&b&above)&(&where&y&is&n-dimesional&vector)\\end{eqnarray}"
   ]
  }
 ],
 "metadata": {
  "kernelspec": {
   "display_name": "Python 2",
   "language": "python",
   "name": "python2"
  },
  "language_info": {
   "codemirror_mode": {
    "name": "ipython",
    "version": 2
   },
   "file_extension": ".py",
   "mimetype": "text/x-python",
   "name": "python",
   "nbconvert_exporter": "python",
   "pygments_lexer": "ipython2",
   "version": "2.7.12"
  }
 },
 "nbformat": 4,
 "nbformat_minor": 1
}
