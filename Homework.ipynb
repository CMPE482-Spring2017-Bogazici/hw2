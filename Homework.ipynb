{
 "cells": [
  {
   "cell_type": "markdown",
   "metadata": {},
   "source": [
    "## A\n",
    "\n",
    "$\\|x\\|_{\\infty} = max\\{x^1,x^2,...x^m\\}$\n",
    "\n",
    "let $x^j$ be the maximum of $x^i$'s.\n",
    "\n",
    "$\\|x\\|_2 = \\sqrt{(x^1)^2+(x^2)^2...(x^m)^2}$\n",
    "\n",
    "$\\|x\\|_2^2 = (x^1)^2+(x^2)^2+...(x^m)^2 \\ge (x^j)^2$\n",
    "\n",
    "$\\implies \\|x\\|_2 \\ge |x^j| = \\|x\\|_{\\infty}$\n"
   ]
  },
  {
   "cell_type": "code",
   "execution_count": 35,
   "metadata": {
    "collapsed": false,
    "scrolled": true
   },
   "outputs": [
    {
     "name": "stdout",
     "output_type": "stream",
     "text": [
      "m =  81\n",
      "ans = 1\n"
     ]
    }
   ],
   "source": [
    "m = randi([1,100],1,1)\n",
    "x = randn(m,1);\n",
    "norm (x, 2) >= norm(x,Inf)"
   ]
  },
  {
   "cell_type": "markdown",
   "metadata": {},
   "source": [
    "## B\n",
    "$\\|x\\|_\\infty = max\\{x^1,x^2...x^m\\}$\n",
    "\n",
    "let $x^j$ be the maximum of $(x^i)$'s.\n",
    "\n",
    "$\\|x\\|_2^2 = \\sum_{i=1}^m(x^i)^2 \\le m*(x^j)^2$ because $x^j$ is the maximum of $(x^i)$'s.\n",
    "\n",
    "Therefore, $\\|x\\|_2 \\le \\sqrt{m}*|x^j| = \\sqrt{m}*\\|x\\|_\\infty$"
   ]
  },
  {
   "cell_type": "code",
   "execution_count": 48,
   "metadata": {
    "collapsed": false
   },
   "outputs": [
    {
     "name": "stdout",
     "output_type": "stream",
     "text": [
      "m =  98\n",
      "ans = 1\n"
     ]
    }
   ],
   "source": [
    "m = randi([1,100],1,1)\n",
    "x = randn(m,1);\n",
    "sqrt(m) * norm(x,Inf) >= norm(x,2)"
   ]
  },
  {
   "cell_type": "markdown",
   "metadata": {},
   "source": [
    "## C\n",
    "\n",
    "$\\|A\\|_\\infty \\stackrel{?}{\\le} \\sqrt{n}*\\|A\\|_2$\n",
    "\n",
    "$\\|A\\|_\\infty^2 \\stackrel{?}{\\le} n*\\|A\\|_2^2$\n",
    "\n",
    "$sup_{x \\ne 0} \\frac{\\|Ax\\|_\\infty^2}{\\|x\\|_\\infty^2} \\stackrel{?}{\\le}  n* sup_{x \\ne 0} \\frac{\\|Ax\\|_2^2}{\\|x\\|_2^2}$\n",
    "\n",
    "$sup_{x \\ne 0} \\frac{\\|Ax\\|_\\infty^2}{\\|x\\|_\\infty^2} \\stackrel{?}{\\le}  sup_{x \\ne 0} n * \\frac{\\|Ax\\|_2^2}{\\|x\\|_2^2}$\n",
    "\n",
    "Instead of examining with supremum of each side, lets examine for the same x's.\n",
    "\n",
    "$\\frac{\\|Ax\\|_\\infty^2}{\\|x\\|_\\infty^2} \\stackrel{?}{\\le} n * \\frac{\\|Ax\\|_2^2}{\\|x\\|_2^2}$\n",
    "\n",
    "$\\frac{\\|x\\|_2^2}{\\|x\\|_\\infty^2} \\stackrel{?}{\\le} n * \\frac{\\|Ax\\|_2^2}{\\|Ax\\|_\\infty^2}$\n",
    "\n",
    "Showing $\\frac{\\|x\\|_2^2}{\\|x\\|_\\infty^2} \\le n$ is trivial since $\\|x\\|_\\infty$ is maximum of components of $x$ and x has $n$ components.\n",
    "\n",
    "$\\|Ax\\|_2^2 \\ge \\|Ax\\|_\\infty^2 \\implies \\frac{\\|Ax\\|_2^2}{\\|Ax\\|_\\infty^2} \\ge 1$\n",
    "\n",
    "Therefore, $n*\\frac{\\|Ax\\|_2^2}{\\|Ax\\|_\\infty^2} \\ge n \\ge \\frac{\\|x\\|_2^2}{\\|x\\|_\\infty^2}$.\n",
    "\n",
    "Since $\\frac{\\|Ax\\|_\\infty^2}{\\|x\\|_\\infty^2} \\le n * \\frac{\\|Ax\\|_2^2}{\\|x\\|_2^2}$ holds \n",
    "\n",
    "$sup_{x \\ne 0} \\frac{\\|Ax\\|_\\infty^2}{\\|x\\|_\\infty^2} \\le  sup_{x \\ne 0} n * \\frac{\\|Ax\\|_2^2}{\\|x\\|_2^2}$ is also true.\n",
    "\n",
    "Therefore $\\|A\\|_\\infty \\le \\sqrt{n}*\\|A\\|_2$ is true."
   ]
  },
  {
   "cell_type": "code",
   "execution_count": 81,
   "metadata": {
    "collapsed": false
   },
   "outputs": [
    {
     "name": "stdout",
     "output_type": "stream",
     "text": [
      "m =  54\n",
      "n =  21\n",
      "ans = 1\n"
     ]
    }
   ],
   "source": [
    "m = randi([1,100],1,1)\n",
    "n = randi([1,100],1,1)\n",
    "A = randn(m,n);\n",
    "norm(A,Inf) <= sqrt(n)*norm(A,2)"
   ]
  },
  {
   "cell_type": "markdown",
   "metadata": {},
   "source": [
    "## D\n",
    "\n",
    "$\\|A\\|_2 \\stackrel{?}{\\le} \\sqrt{m} * \\|A\\|_\\infty$\n",
    "\n",
    "$\\|A\\|_2^2 \\stackrel{?}{\\le} m * \\|A\\|_\\infty^2$\n",
    "\n",
    "$sup_{x \\ne 0} \\frac{\\|Ax\\|_2^2}{\\|x\\|_2^2} \\stackrel{?}{\\le} m*sup_{x \\ne 0} \\frac{\\|Ax\\|_\\infty^2}{\\|x\\|_\\infty^2}$\n",
    "\n",
    "$sup_{x \\ne 0} \\frac{\\|Ax\\|_2^2}{\\|x\\|_2^2} \\stackrel{?}{\\le} sup_{x \\ne 0} m*\\frac{\\|Ax\\|_\\infty^2}{\\|x\\|_\\infty^2}$\n",
    "\n",
    "Instead of examining with supremum of each side, lets examine for the same x's.\n",
    "\n",
    "$\\frac{\\|Ax\\|_2^2}{\\|x\\|_2^2} \\stackrel{?}{\\le} m*\\frac{\\|Ax\\|_\\infty^2}{\\|x\\|_\\infty^2} \\implies \\frac{\\|x\\|_\\infty^2}{\\|x\\|_2^2} \\stackrel{?}{\\le} m*\\frac{\\|Ax\\|_\\infty^2}{\\|Ax\\|_2^2}$\n",
    "\n",
    "Showing $\\frac{\\|x\\|_\\infty^2}{\\|x\\|_2^2} \\le 1$ is trivial.\n",
    "\n",
    "$\\frac{\\|Ax\\|_\\infty^2}{\\|Ax\\|_2^2} \\ge \\frac{1}{m}$ is also holds by part C.\n",
    "\n",
    "Therefore, $\\frac{\\|Ax\\|_2^2}{\\|x\\|_2^2} \\le m*\\frac{\\|Ax\\|_\\infty^2}{\\|x\\|_\\infty^2}$ holds and this implies $sup_{x \\ne 0} \\frac{\\|Ax\\|_2^2}{\\|x\\|_2^2} \\le m*sup_{x \\ne 0} \\frac{\\|Ax\\|_\\infty^2}{\\|x\\|_\\infty^2}$ as similar to part C.\n",
    "\n",
    "Therefore $\\|A\\|_2 \\stackrel{?}{\\le} \\sqrt{m} * \\|A\\|_\\infty$ is true."
   ]
  },
  {
   "cell_type": "code",
   "execution_count": 91,
   "metadata": {
    "collapsed": false
   },
   "outputs": [
    {
     "name": "stdout",
     "output_type": "stream",
     "text": [
      "m =  69\n",
      "n =  57\n",
      "ans = 1\n"
     ]
    }
   ],
   "source": [
    "m = randi([1,100],1,1)\n",
    "n = randi([1,100],1,1)\n",
    "A = randn(m,n);\n",
    "norm(A,2) <= norm(A,Inf)*sqrt(m)"
   ]
  }
 ],
 "metadata": {
  "kernelspec": {
   "display_name": "Octave",
   "language": "octave",
   "name": "octave"
  },
  "language_info": {
   "file_extension": ".m",
   "help_links": [
    {
     "text": "GNU Octave",
     "url": "https://www.gnu.org/software/octave/support.html"
    },
    {
     "text": "Octave Kernel",
     "url": "https://github.com/Calysto/octave_kernel"
    },
    {
     "text": "MetaKernel Magics",
     "url": "https://github.com/calysto/metakernel/blob/master/metakernel/magics/README.md"
    }
   ],
   "mimetype": "text/x-octave",
   "name": "octave",
   "version": "4.2.0"
  }
 },
 "nbformat": 4,
 "nbformat_minor": 2
}
